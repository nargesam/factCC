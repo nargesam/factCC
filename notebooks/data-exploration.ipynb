{
 "cells": [
  {
   "cell_type": "code",
   "execution_count": 1,
   "metadata": {},
   "outputs": [],
   "source": [
    "import pandas as pd\n",
    "import json\n",
    "import osdf.label.unique() #['SUPPORTS', 'REFUTES']\n",
    "df.groupby(['label']).count() "
   ]
  },
  {
   "cell_type": "code",
   "execution_count": 10,
   "metadata": {},
   "outputs": [],
   "source": [
    "path = '/Users/ns5kn/Documents/insight/projects/factcc/data/processed/paired_data/data-original/data-train.jsonl'\n",
    "\n",
    "with open(path) as f:\n",
    "            dataset = [json.loads(line) for line in f]\n"
   ]
  },
  {
   "cell_type": "code",
   "execution_count": null,
   "metadata": {},
   "outputs": [],
   "source": []
  },
  {
   "cell_type": "code",
   "execution_count": 14,
   "metadata": {},
   "outputs": [
    {
     "name": "stdout",
     "output_type": "stream",
     "text": [
      "<class 'list'>\n",
      "dict_keys(['id', 'claim', 'label', 'extraction_span', 'backtranslation', 'augmentation', 'augmentation_span', 'noisy', 'filepath', 'text'])\n",
      "1880000\n"
     ]
    }
   ],
   "source": [
    "print(type(dataset))\n",
    "\n",
    "print(dataset[0].keys())\n",
    "# ['id', 'claim', 'label', 'extraction_span', 'backtranslation', 'augmentation', 'augmentation_span', 'noisy', 'filepath', 'text']\n",
    "\n",
    "\n",
    "print(len(dataset)) \n",
    "# 1,880,000"
   ]
  },
  {
   "cell_type": "code",
   "execution_count": 17,
   "metadata": {},
   "outputs": [],
   "source": [
    "df = pd.DataFrame(dataset, columns =['id', 'claim', 'label', 'extraction_span', 'backtranslation', 'augmentation', 'augmentation_span', 'noisy', 'filepath', 'text'], dtype = float) \n",
    "\n"
   ]
  },
  {
   "cell_type": "code",
   "execution_count": 58,
   "metadata": {},
   "outputs": [
    {
     "data": {
      "text/html": [
       "<div>\n",
       "<style scoped>\n",
       "    .dataframe tbody tr th:only-of-type {\n",
       "        vertical-align: middle;\n",
       "    }\n",
       "\n",
       "    .dataframe tbody tr th {\n",
       "        vertical-align: top;\n",
       "    }\n",
       "\n",
       "    .dataframe thead th {\n",
       "        text-align: right;\n",
       "    }\n",
       "</style>\n",
       "<table border=\"1\" class=\"dataframe\">\n",
       "  <thead>\n",
       "    <tr style=\"text-align: right;\">\n",
       "      <th></th>\n",
       "      <th>id</th>\n",
       "      <th>claim</th>\n",
       "      <th>label</th>\n",
       "      <th>extraction_span</th>\n",
       "      <th>backtranslation</th>\n",
       "      <th>augmentation</th>\n",
       "      <th>augmentation_span</th>\n",
       "      <th>noisy</th>\n",
       "      <th>filepath</th>\n",
       "      <th>text</th>\n",
       "    </tr>\n",
       "  </thead>\n",
       "  <tbody>\n",
       "    <tr>\n",
       "      <th>0</th>\n",
       "      <td>dailymail-train-98b5283a4dba2f9d0305c8bde23e0d...</td>\n",
       "      <td>Eleven of the 25 evaluable ovarian cancer pati...</td>\n",
       "      <td>SUPPORTS</td>\n",
       "      <td>[363, 394]</td>\n",
       "      <td>1.0</td>\n",
       "      <td>None</td>\n",
       "      <td>None</td>\n",
       "      <td>0.0</td>\n",
       "      <td>cnndm/dailymail/stories/98b5283a4dba2f9d0305c8...</td>\n",
       "      <td>By Leon Watson PUBLISHED: 14:06 EST, 4 June 20...</td>\n",
       "    </tr>\n",
       "    <tr>\n",
       "      <th>1</th>\n",
       "      <td>dailymail-train-849aa2e0f45a0351d120385a20ab91...</td>\n",
       "      <td>Town councillor Alliance, said: : 'We have the...</td>\n",
       "      <td>REFUTES</td>\n",
       "      <td>[227, 254]</td>\n",
       "      <td>0.0</td>\n",
       "      <td>EntitySwap</td>\n",
       "      <td>[2, 2]</td>\n",
       "      <td>0.0</td>\n",
       "      <td>cnndm/dailymail/stories/849aa2e0f45a0351d12038...</td>\n",
       "      <td>By Anna Edwards PUBLISHED: 09:38 EST, 21 Janua...</td>\n",
       "    </tr>\n",
       "  </tbody>\n",
       "</table>\n",
       "</div>"
      ],
      "text/plain": [
       "                                                  id  \\\n",
       "0  dailymail-train-98b5283a4dba2f9d0305c8bde23e0d...   \n",
       "1  dailymail-train-849aa2e0f45a0351d120385a20ab91...   \n",
       "\n",
       "                                               claim     label  \\\n",
       "0  Eleven of the 25 evaluable ovarian cancer pati...  SUPPORTS   \n",
       "1  Town councillor Alliance, said: : 'We have the...   REFUTES   \n",
       "\n",
       "  extraction_span  backtranslation augmentation augmentation_span  noisy  \\\n",
       "0      [363, 394]              1.0         None              None    0.0   \n",
       "1      [227, 254]              0.0   EntitySwap            [2, 2]    0.0   \n",
       "\n",
       "                                            filepath  \\\n",
       "0  cnndm/dailymail/stories/98b5283a4dba2f9d0305c8...   \n",
       "1  cnndm/dailymail/stories/849aa2e0f45a0351d12038...   \n",
       "\n",
       "                                                text  \n",
       "0  By Leon Watson PUBLISHED: 14:06 EST, 4 June 20...  \n",
       "1  By Anna Edwards PUBLISHED: 09:38 EST, 21 Janua...  "
      ]
     },
     "execution_count": 58,
     "metadata": {},
     "output_type": "execute_result"
    }
   ],
   "source": [
    "\n",
    "df.head(2)\n",
    "# df.label.unique() #\n",
    "\n",
    "\n",
    "# pd = df[['id', 'text', 'claim', 'label']]\n",
    "\n",
    "# pd.head(2)"
   ]
  },
  {
   "cell_type": "code",
   "execution_count": 22,
   "metadata": {},
   "outputs": [
    {
     "data": {
      "text/html": [
       "<div>\n",
       "<style scoped>\n",
       "    .dataframe tbody tr th:only-of-type {\n",
       "        vertical-align: middle;\n",
       "    }\n",
       "\n",
       "    .dataframe tbody tr th {\n",
       "        vertical-align: top;\n",
       "    }\n",
       "\n",
       "    .dataframe thead th {\n",
       "        text-align: right;\n",
       "    }\n",
       "</style>\n",
       "<table border=\"1\" class=\"dataframe\">\n",
       "  <thead>\n",
       "    <tr style=\"text-align: right;\">\n",
       "      <th></th>\n",
       "      <th>id</th>\n",
       "      <th>claim</th>\n",
       "      <th>label</th>\n",
       "      <th>extraction_span</th>\n",
       "      <th>backtranslation</th>\n",
       "      <th>augmentation</th>\n",
       "      <th>augmentation_span</th>\n",
       "      <th>filepath</th>\n",
       "      <th>text</th>\n",
       "    </tr>\n",
       "    <tr>\n",
       "      <th>noisy</th>\n",
       "      <th></th>\n",
       "      <th></th>\n",
       "      <th></th>\n",
       "      <th></th>\n",
       "      <th></th>\n",
       "      <th></th>\n",
       "      <th></th>\n",
       "      <th></th>\n",
       "      <th></th>\n",
       "    </tr>\n",
       "  </thead>\n",
       "  <tbody>\n",
       "    <tr>\n",
       "      <th>0.0</th>\n",
       "      <td>1880000</td>\n",
       "      <td>1880000</td>\n",
       "      <td>1880000</td>\n",
       "      <td>1880000</td>\n",
       "      <td>1880000</td>\n",
       "      <td>940129</td>\n",
       "      <td>940129</td>\n",
       "      <td>1880000</td>\n",
       "      <td>1880000</td>\n",
       "    </tr>\n",
       "  </tbody>\n",
       "</table>\n",
       "</div>"
      ],
      "text/plain": [
       "            id    claim    label  extraction_span  backtranslation  \\\n",
       "noisy                                                                \n",
       "0.0    1880000  1880000  1880000          1880000          1880000   \n",
       "\n",
       "       augmentation  augmentation_span  filepath     text  \n",
       "noisy                                                      \n",
       "0.0          940129             940129   1880000  1880000  "
      ]
     },
     "execution_count": 22,
     "metadata": {},
     "output_type": "execute_result"
    }
   ],
   "source": [
    "df.noisy.unique() #['SUPPORTS', 'REFUTES']\n",
    "df.groupby(['noisy']).count() "
   ]
  },
  {
   "cell_type": "code",
   "execution_count": 41,
   "metadata": {},
   "outputs": [
    {
     "data": {
      "text/plain": [
       "NegateSentences    276798\n",
       "EntitySwap         271064\n",
       "PronounSwap        223532\n",
       "NumberSwap         168735\n",
       "Name: augmentation, dtype: int64"
      ]
     },
     "execution_count": 41,
     "metadata": {},
     "output_type": "execute_result"
    }
   ],
   "source": [
    "# 939871 (~1/2) of the data has no augmentation applied to them. 1/2 had some sort of augmentation\n",
    "# NegateSentences    276798\n",
    "# EntitySwap         271064\n",
    "# PronounSwap        223532\n",
    "# NumberSwap         168735\n",
    "\n",
    "df.augmentation.unique() #[None, 'EntitySwap', 'NegateSentences', 'PronounSwap', 'NumberSwap']\n",
    "df['augmentation'].nunique()\n",
    "df['augmentation'].value_counts()\n",
    "\n",
    "df['augmentation'].isnull().sum() "
   ]
  },
  {
   "cell_type": "code",
   "execution_count": 43,
   "metadata": {},
   "outputs": [],
   "source": [
    "sample_train = df.sample(frac=0.1, replace=True, random_state=1)\n",
    "\n",
    "sample_train.to_csv('/Users/ns5kn/Documents/insight/projects/factcc/data/interim/sample_train.csv', header = True)"
   ]
  },
  {
   "cell_type": "code",
   "execution_count": 47,
   "metadata": {},
   "outputs": [],
   "source": [
    "train = pd.read_csv('/Users/ns5kn/Documents/insight/projects/factcc/data/interim/sample_train.csv')"
   ]
  },
  {
   "cell_type": "code",
   "execution_count": 57,
   "metadata": {},
   "outputs": [
    {
     "data": {
      "text/html": [
       "<div>\n",
       "<style scoped>\n",
       "    .dataframe tbody tr th:only-of-type {\n",
       "        vertical-align: middle;\n",
       "    }\n",
       "\n",
       "    .dataframe tbody tr th {\n",
       "        vertical-align: top;\n",
       "    }\n",
       "\n",
       "    .dataframe thead th {\n",
       "        text-align: right;\n",
       "    }\n",
       "</style>\n",
       "<table border=\"1\" class=\"dataframe\">\n",
       "  <thead>\n",
       "    <tr style=\"text-align: right;\">\n",
       "      <th></th>\n",
       "      <th>id</th>\n",
       "      <th>claim</th>\n",
       "      <th>label</th>\n",
       "      <th>extraction_span</th>\n",
       "      <th>backtranslation</th>\n",
       "      <th>augmentation</th>\n",
       "      <th>augmentation_span</th>\n",
       "      <th>noisy</th>\n",
       "      <th>filepath</th>\n",
       "      <th>text</th>\n",
       "    </tr>\n",
       "  </thead>\n",
       "  <tbody>\n",
       "    <tr>\n",
       "      <th>128037</th>\n",
       "      <td>dailymail-train-abfb525a27d4a145462d3448bcaa5c...</td>\n",
       "      <td>How could it go wrongwrong?'</td>\n",
       "      <td>SUPPORTS</td>\n",
       "      <td>[482, 488]</td>\n",
       "      <td>0.0</td>\n",
       "      <td>NaN</td>\n",
       "      <td>NaN</td>\n",
       "      <td>0.0</td>\n",
       "      <td>cnndm/dailymail/stories/abfb525a27d4a145462d34...</td>\n",
       "      <td>Zesty: Old Bay seasoning will be added to the ...</td>\n",
       "    </tr>\n",
       "    <tr>\n",
       "      <th>491755</th>\n",
       "      <td>dailymail-train-2c37a7130f437c2beb4fa0f60e2366...</td>\n",
       "      <td>they they went spearfishing off off the wester...</td>\n",
       "      <td>SUPPORTS</td>\n",
       "      <td>[666, 678]</td>\n",
       "      <td>0.0</td>\n",
       "      <td>NaN</td>\n",
       "      <td>NaN</td>\n",
       "      <td>0.0</td>\n",
       "      <td>cnndm/dailymail/stories/2c37a7130f437c2beb4fa0...</td>\n",
       "      <td>By Richard Shears PUBLISHED: 05:49 EST, 29 Jul...</td>\n",
       "    </tr>\n",
       "  </tbody>\n",
       "</table>\n",
       "</div>"
      ],
      "text/plain": [
       "                                                       id  \\\n",
       "128037  dailymail-train-abfb525a27d4a145462d3448bcaa5c...   \n",
       "491755  dailymail-train-2c37a7130f437c2beb4fa0f60e2366...   \n",
       "\n",
       "                                                    claim     label  \\\n",
       "128037                       How could it go wrongwrong?'  SUPPORTS   \n",
       "491755  they they went spearfishing off off the wester...  SUPPORTS   \n",
       "\n",
       "       extraction_span  backtranslation augmentation augmentation_span  noisy  \\\n",
       "128037      [482, 488]              0.0          NaN               NaN    0.0   \n",
       "491755      [666, 678]              0.0          NaN               NaN    0.0   \n",
       "\n",
       "                                                 filepath  \\\n",
       "128037  cnndm/dailymail/stories/abfb525a27d4a145462d34...   \n",
       "491755  cnndm/dailymail/stories/2c37a7130f437c2beb4fa0...   \n",
       "\n",
       "                                                     text  \n",
       "128037  Zesty: Old Bay seasoning will be added to the ...  \n",
       "491755  By Richard Shears PUBLISHED: 05:49 EST, 29 Jul...  "
      ]
     },
     "execution_count": 57,
     "metadata": {},
     "output_type": "execute_result"
    }
   ],
   "source": [
    "len(train) #188000\n",
    "train['label'].value_counts()\n",
    "\n",
    "# REFUTES     94362\n",
    "# SUPPORTS    93638\n",
    "\n",
    "# train[train['lable'] == 'REFUTES'] = 1 \n",
    "\n",
    "train.head(2)\n",
    "\n",
    "\n",
    "\n",
    "\n"
   ]
  },
  {
   "cell_type": "code",
   "execution_count": 2,
   "metadata": {},
   "outputs": [],
   "source": [
    "import json\n",
    "path = '/Users/ns5kn/Documents/insight/projects/factcc/data/processed/paired_data/manual/val_manual.jsonl'\n",
    "\n",
    "with open(path) as f:\n",
    "            dataset = [json.loads(line) for line in f]"
   ]
  },
  {
   "cell_type": "code",
   "execution_count": 5,
   "metadata": {},
   "outputs": [
    {
     "name": "stdout",
     "output_type": "stream",
     "text": [
      "dict_keys(['claim', 'label', 'filepath', 'id', 'text'])\n"
     ]
    }
   ],
   "source": [
    "print(dataset[1].keys())\n",
    "\n",
    "\n",
    "# import pandas as pd\n",
    "\n",
    "# d = pd.DataFrame(dataset, columns = ['claim', 'label', 'filepath', 'id', 'text'])"
   ]
  },
  {
   "cell_type": "code",
   "execution_count": 9,
   "metadata": {},
   "outputs": [],
   "source": [
    "import json\n",
    "path = '/Users/ns5kn/Documents/insight/projects/factcc/data/processed/paired_data/data-clipped/data-train.jsonl'\n",
    "\n",
    "with open(path) as f:\n",
    "            dataset = [json.loads(line) for line in f]\n"
   ]
  },
  {
   "cell_type": "code",
   "execution_count": 10,
   "metadata": {},
   "outputs": [
    {
     "name": "stdout",
     "output_type": "stream",
     "text": [
      "dict_keys(['label', 'noise', 'backtranslation', 'extraction_span', 'claim', 'augmentation', 'augmentation_span', 'id', 'filepath', 'text'])\n"
     ]
    }
   ],
   "source": [
    "print(dataset[1].keys())"
   ]
  }
 ],
 "metadata": {
  "kernelspec": {
   "display_name": "Python 3",
   "language": "python",
   "name": "python3"
  },
  "language_info": {
   "codemirror_mode": {
    "name": "ipython",
    "version": 3
   },
   "file_extension": ".py",
   "mimetype": "text/x-python",
   "name": "python",
   "nbconvert_exporter": "python",
   "pygments_lexer": "ipython3",
   "version": "3.6.5"
  }
 },
 "nbformat": 4,
 "nbformat_minor": 2
}
