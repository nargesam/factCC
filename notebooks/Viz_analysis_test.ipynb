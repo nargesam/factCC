{
 "cells": [
  {
   "cell_type": "code",
   "execution_count": 1,
   "metadata": {},
   "outputs": [],
   "source": [
    "%load_ext autoreload\n",
    "%autoreload 2\n",
    "\n",
    "import sys\n",
    "\n",
    "sys.path.append('../src/factcc/')\n",
    "\n",
    "from visualization import FactCCViz"
   ]
  },
  {
   "cell_type": "code",
   "execution_count": 2,
   "metadata": {},
   "outputs": [],
   "source": [
    "obj = FactCCViz('/Users/ns5kn/Documents/insight/projects/factCC/src/factcc/scripts/test_factcc_BertBaseCased.cfg')"
   ]
  },
  {
   "cell_type": "code",
   "execution_count": 3,
   "metadata": {},
   "outputs": [
    {
     "data": {
      "text/html": [
       "<div>\n",
       "<style scoped>\n",
       "    .dataframe tbody tr th:only-of-type {\n",
       "        vertical-align: middle;\n",
       "    }\n",
       "\n",
       "    .dataframe tbody tr th {\n",
       "        vertical-align: top;\n",
       "    }\n",
       "\n",
       "    .dataframe thead th {\n",
       "        text-align: right;\n",
       "    }\n",
       "</style>\n",
       "<table border=\"1\" class=\"dataframe\">\n",
       "  <thead>\n",
       "    <tr style=\"text-align: right;\">\n",
       "      <th></th>\n",
       "      <th>Unnamed: 0</th>\n",
       "      <th>Unnamed: 0.1</th>\n",
       "      <th>idx</th>\n",
       "      <th>sentence2</th>\n",
       "      <th>label</th>\n",
       "      <th>extraction_span</th>\n",
       "      <th>backtranslation</th>\n",
       "      <th>augmentation</th>\n",
       "      <th>augmentation_span</th>\n",
       "      <th>noisy</th>\n",
       "      <th>filepath</th>\n",
       "      <th>sentence1</th>\n",
       "      <th>pred</th>\n",
       "    </tr>\n",
       "  </thead>\n",
       "  <tbody>\n",
       "    <tr>\n",
       "      <th>0</th>\n",
       "      <td>0</td>\n",
       "      <td>128037</td>\n",
       "      <td>dailymail-train-c9c0c501f056aed5c232ae5d133e0d...</td>\n",
       "      <td>We can not learn a lot about them.'</td>\n",
       "      <td>REFUTES</td>\n",
       "      <td>[341, 349]</td>\n",
       "      <td>0.0</td>\n",
       "      <td>NegateSentences</td>\n",
       "      <td>[1, 2]</td>\n",
       "      <td>NaN</td>\n",
       "      <td>cnndm/dailymail/stories/c9c0c501f056aed5c232ae...</td>\n",
       "      <td>By Sarah Griffiths PUBLISHED: 09:59 EST, 3 Sep...</td>\n",
       "      <td>0</td>\n",
       "    </tr>\n",
       "    <tr>\n",
       "      <th>1</th>\n",
       "      <td>1</td>\n",
       "      <td>491755</td>\n",
       "      <td>cnn-train-b0ff7f74cfcd5b8db155054ec37165aad0c6...</td>\n",
       "      <td>They said the days were gone when consumers we...</td>\n",
       "      <td>REFUTES</td>\n",
       "      <td>[128, 142]</td>\n",
       "      <td>0.0</td>\n",
       "      <td>PronounSwap</td>\n",
       "      <td>[0, 0]</td>\n",
       "      <td>NaN</td>\n",
       "      <td>cnndm/cnn/stories/b0ff7f74cfcd5b8db155054ec371...</td>\n",
       "      <td>London (CNN) -- The European head of consumer ...</td>\n",
       "      <td>0</td>\n",
       "    </tr>\n",
       "    <tr>\n",
       "      <th>2</th>\n",
       "      <td>2</td>\n",
       "      <td>470924</td>\n",
       "      <td>cnn-train-5f3a28023ec4ddcfc29c61bf600fb9cd02cb...</td>\n",
       "      <td>I did audition for 'Theo Theo James' back in t...</td>\n",
       "      <td>REFUTES</td>\n",
       "      <td>[166, 194]</td>\n",
       "      <td>0.0</td>\n",
       "      <td>EntitySwap</td>\n",
       "      <td>[5, 6]</td>\n",
       "      <td>NaN</td>\n",
       "      <td>cnndm/cnn/stories/5f3a28023ec4ddcfc29c61bf600f...</td>\n",
       "      <td>(CNN) -- Lucky fans were treated to the first ...</td>\n",
       "      <td>1</td>\n",
       "    </tr>\n",
       "    <tr>\n",
       "      <th>3</th>\n",
       "      <td>3</td>\n",
       "      <td>470924</td>\n",
       "      <td>cnn-train-5f3a28023ec4ddcfc29c61bf600fb9cd02cb...</td>\n",
       "      <td>I did audition for 'Theo Theo James' back in t...</td>\n",
       "      <td>REFUTES</td>\n",
       "      <td>[166, 194]</td>\n",
       "      <td>0.0</td>\n",
       "      <td>EntitySwap</td>\n",
       "      <td>[5, 6]</td>\n",
       "      <td>NaN</td>\n",
       "      <td>cnndm/cnn/stories/5f3a28023ec4ddcfc29c61bf600f...</td>\n",
       "      <td>(CNN) -- Lucky fans were treated to the first ...</td>\n",
       "      <td>0</td>\n",
       "    </tr>\n",
       "    <tr>\n",
       "      <th>4</th>\n",
       "      <td>4</td>\n",
       "      <td>627432</td>\n",
       "      <td>cnn-train-5f3a28023ec4ddcfc29c61bf600fb9cd02cb...</td>\n",
       "      <td>It will be released in on on March 21, 2014..</td>\n",
       "      <td>SUPPORTS</td>\n",
       "      <td>[113, 124]</td>\n",
       "      <td>0.0</td>\n",
       "      <td>NaN</td>\n",
       "      <td>NaN</td>\n",
       "      <td>NaN</td>\n",
       "      <td>cnndm/cnn/stories/5f3a28023ec4ddcfc29c61bf600f...</td>\n",
       "      <td>(CNN) -- Lucky fans were treated to the first ...</td>\n",
       "      <td>1</td>\n",
       "    </tr>\n",
       "  </tbody>\n",
       "</table>\n",
       "</div>"
      ],
      "text/plain": [
       "   Unnamed: 0  Unnamed: 0.1  \\\n",
       "0           0        128037   \n",
       "1           1        491755   \n",
       "2           2        470924   \n",
       "3           3        470924   \n",
       "4           4        627432   \n",
       "\n",
       "                                                 idx  \\\n",
       "0  dailymail-train-c9c0c501f056aed5c232ae5d133e0d...   \n",
       "1  cnn-train-b0ff7f74cfcd5b8db155054ec37165aad0c6...   \n",
       "2  cnn-train-5f3a28023ec4ddcfc29c61bf600fb9cd02cb...   \n",
       "3  cnn-train-5f3a28023ec4ddcfc29c61bf600fb9cd02cb...   \n",
       "4  cnn-train-5f3a28023ec4ddcfc29c61bf600fb9cd02cb...   \n",
       "\n",
       "                                           sentence2     label  \\\n",
       "0                We can not learn a lot about them.'   REFUTES   \n",
       "1  They said the days were gone when consumers we...   REFUTES   \n",
       "2  I did audition for 'Theo Theo James' back in t...   REFUTES   \n",
       "3  I did audition for 'Theo Theo James' back in t...   REFUTES   \n",
       "4      It will be released in on on March 21, 2014..  SUPPORTS   \n",
       "\n",
       "  extraction_span  backtranslation     augmentation augmentation_span  noisy  \\\n",
       "0      [341, 349]              0.0  NegateSentences            [1, 2]    NaN   \n",
       "1      [128, 142]              0.0      PronounSwap            [0, 0]    NaN   \n",
       "2      [166, 194]              0.0       EntitySwap            [5, 6]    NaN   \n",
       "3      [166, 194]              0.0       EntitySwap            [5, 6]    NaN   \n",
       "4      [113, 124]              0.0              NaN               NaN    NaN   \n",
       "\n",
       "                                            filepath  \\\n",
       "0  cnndm/dailymail/stories/c9c0c501f056aed5c232ae...   \n",
       "1  cnndm/cnn/stories/b0ff7f74cfcd5b8db155054ec371...   \n",
       "2  cnndm/cnn/stories/5f3a28023ec4ddcfc29c61bf600f...   \n",
       "3  cnndm/cnn/stories/5f3a28023ec4ddcfc29c61bf600f...   \n",
       "4  cnndm/cnn/stories/5f3a28023ec4ddcfc29c61bf600f...   \n",
       "\n",
       "                                           sentence1  pred  \n",
       "0  By Sarah Griffiths PUBLISHED: 09:59 EST, 3 Sep...     0  \n",
       "1  London (CNN) -- The European head of consumer ...     0  \n",
       "2  (CNN) -- Lucky fans were treated to the first ...     1  \n",
       "3  (CNN) -- Lucky fans were treated to the first ...     0  \n",
       "4  (CNN) -- Lucky fans were treated to the first ...     1  "
      ]
     },
     "execution_count": 3,
     "metadata": {},
     "output_type": "execute_result"
    }
   ],
   "source": [
    "import numpy\n",
    "obj.load_data(clobber=True)\n",
    "\n",
    "len(obj.dataset)\n",
    "obj.dataset.head()\n",
    "# len(obj.dataset)\n",
    "# df  = obj.dataset\n",
    "# df[\"label\"] = df[\"label\"].map({'SUPPORTS': numpy.int64(1) ,'REFUTES': numpy.int64(0)})\n",
    "# print(obj._test_csv_path)"
   ]
  },
  {
   "cell_type": "code",
   "execution_count": 56,
   "metadata": {},
   "outputs": [
    {
     "data": {
      "text/plain": [
       "1023"
      ]
     },
     "execution_count": 56,
     "metadata": {},
     "output_type": "execute_result"
    }
   ],
   "source": [
    "df = obj.dataset\n",
    "df['pred'].value_counts()\n"
   ]
  },
  {
   "cell_type": "code",
   "execution_count": 67,
   "metadata": {},
   "outputs": [
    {
     "data": {
      "text/plain": [
       "642"
      ]
     },
     "execution_count": 67,
     "metadata": {},
     "output_type": "execute_result"
    }
   ],
   "source": [
    "import numpy as np\n",
    "import seaborn as sns\n",
    "\n",
    "# df = obj.dataset.query(\"label == 'REFUTES'\").copy()\n",
    "df = obj.dataset.copy()\n",
    "df['pred'] = df['pred'].replace(0, 'REFUTES')\n",
    "df['pred'] = df['pred'].replace(1, 'SUPPORTS')\n",
    "# df['augmentation'] = df['augmentation'].replace(np.NaN, 'No augmentation')\n",
    "\n",
    "df = df[df['label'] != df['pred']]\n",
    "len(df)\n",
    "\n",
    "# df = df[['idx', 'augmentation', 'label', 'pred']] \\\n",
    "#     .groupby(['augmentation', 'label', 'pred']) \\\n",
    "#     .count() \\\n",
    "#     .reset_index()\n",
    "\n",
    "# df = df.rename(columns={'idx': 'count'})\n",
    "# df\n",
    "# df['agrees'] = ['red' if x == 'Z' else 'green' for x in df['Set']]\n",
    "\n",
    "\n",
    "# df.reset_index()\n",
    "# df.columns\n",
    "\n",
    "# g = sns.barplot(x='count', y='augmentation', color=\"\" data=df)"
   ]
  },
  {
   "cell_type": "code",
   "execution_count": 53,
   "metadata": {},
   "outputs": [
    {
     "data": {
      "image/png": "[encoded data removed]",
      "text/plain": [
       "<Figure size 432x288 with 1 Axes>"
      ]
     },
     "metadata": {
      "needs_background": "light"
     },
     "output_type": "display_data"
    }
   ],
   "source": [
    "obj.augmentation_plot()"
   ]
  },
  {
   "cell_type": "code",
   "execution_count": 6,
   "metadata": {
    "scrolled": false
   },
   "outputs": [
    {
     "data": {
      "application/vnd.plotly.v1+json": {
       "config": {
        "plotlyServerURL": "https://plot.ly"
       },
       "data": [
        {
         "colorscale": [
          [
           0,
           "rgb(255,247,251)"
          ],
          [
           0.125,
           "rgb(236,226,240)"
          ],
          [
           0.25,
           "rgb(208,209,230)"
          ],
          [
           0.375,
           "rgb(166,189,219)"
          ],
          [
           0.5,
           "rgb(103,169,207)"
          ],
          [
           0.625,
           "rgb(54,144,192)"
          ],
          [
           0.75,
           "rgb(2,129,138)"
          ],
          [
           0.875,
           "rgb(1,108,89)"
          ],
          [
           1,
           "rgb(1,70,54)"
          ]
         ],
         "type": "heatmap",
         "x": [
          "a",
          "van",
          "was",
          "also",
          "abducted",
          "on",
          "denmark",
          "street",
          "and",
          "pushed",
          "in",
          "the",
          "direction",
          "of",
          "police",
          "lines",
          ".",
          "[SEP]"
         ],
         "y": [
          "[CLS]",
          "a",
          "van",
          "was",
          "also",
          "hi",
          "##jack",
          "##ed",
          "in",
          "denmark",
          "street",
          "and",
          "pushed",
          "towards",
          "police",
          "lines",
          ".",
          "it",
          "is",
          "not",
          "yet",
          "known",
          "how",
          "serious",
          "the",
          "injuries",
          "sustained",
          "by",
          "the",
          "police",
          "officers",
          "taken",
          "to",
          "hospital",
          "are",
          ".",
          "[SEP]"
         ],
         "z": [
          [
           0.008572396822273731,
           0.014474528841674328,
           0.0025318693369627,
           0.006546875461935997,
           0.001939081121236086,
           0.04417165368795395,
           0.00744805671274662,
           0.012792698107659817,
           0.026993339881300926,
           0.0022294146474450827,
           0.07031314074993134,
           0.0074273268692195415,
           0.009904123842716217,
           0.04011267051100731,
           0.00799568835645914,
           0.004605008754879236,
           0.03644721210002899,
           0.0052739959210157394
          ],
          [
           0.0020053412299603224,
           0.005205145105719566,
           0.0036360432859510183,
           0.0014343771617859602,
           0.006146104075014591,
           0.008549067191779613,
           0.0033624758943915367,
           0.004568115808069706,
           0.004004482179880142,
           0.003474980592727661,
           0.00807252898812294,
           0.004914579913020134,
           0.003767450340092182,
           0.0080927899107337,
           0.004175284877419472,
           0.007383734919130802,
           0.020108921453356743,
           0.008918439038097858
          ],
          [
           0.002463963581249118,
           0.00495097367092967,
           0.002245360752567649,
           0.0020050460007041693,
           0.0023156278766691685,
           0.006528302561491728,
           0.1080150157213211,
           0.014384308829903603,
           0.005900091957300901,
           0.0009799894178286195,
           0.011242393404245377,
           0.003758699633181095,
           0.0027672192081809044,
           0.011895806528627872,
           0.002959534991532564,
           0.0029353024438023567,
           0.017397331073880196,
           0.010512166656553745
          ],
          [
           0.003997049760073423,
           0.0037272011395543814,
           0.0017413629684597254,
           0.0010463049402460456,
           0.001214225310832262,
           0.0190765131264925,
           0.0009409599006175995,
           0.007769803982228041,
           0.0052488213405013084,
           0.00037311369669623673,
           0.011562377214431763,
           0.00343691254965961,
           0.0031527425162494183,
           0.02872968651354313,
           0.008429918438196182,
           0.005955227185040712,
           0.03764728829264641,
           0.023923464119434357
          ],
          [
           0.005001077428460121,
           0.00126380764413625,
           0.0024030888453125954,
           0.0009745424031279981,
           0.0043251062743365765,
           0.014651473611593246,
           0.0007862066850066185,
           0.00781633798032999,
           0.004977320786565542,
           0.0010884421644732356,
           0.013100504875183105,
           0.002466117963194847,
           0.005467506591230631,
           0.016681266948580742,
           0.002602260559797287,
           0.0057036904618144035,
           0.04609379917383194,
           0.01023134496062994
          ],
          [
           0.021237142384052277,
           0.0012235232861712575,
           0.005486861802637577,
           0.0016379219014197588,
           0.0015466532204300165,
           0.00399630656465888,
           0.0022432436235249043,
           0.0034988047555088997,
           0.023981846868991852,
           0.002542516216635704,
           0.006327083334326744,
           0.019080590456724167,
           0.0015046579064801335,
           0.009281608276069164,
           0.0017553024226799607,
           0.001851448556408286,
           0.03620084002614021,
           0.05914221704006195
          ],
          [
           0.009603708051145077,
           0.0030589019879698753,
           0.0048743439838290215,
           0.0019479653565213084,
           0.002371203852817416,
           0.016342340037226677,
           0.007388430181890726,
           0.004825694020837545,
           0.007162997964769602,
           0.0014074585633352399,
           0.015392197296023369,
           0.007398177869617939,
           0.0037666065618395805,
           0.026117470115423203,
           0.0041419221088290215,
           0.011408291757106781,
           0.0467296838760376,
           0.03391626104712486
          ],
          [
           0.002926231361925602,
           0.0015878267586231232,
           0.002524113981053233,
           0.0014714205171912909,
           0.0008513284847140312,
           0.03820096701383591,
           0.0002886101428885013,
           0.0015260021900758147,
           0.008413312025368214,
           0.0020883334800601006,
           0.02791999839246273,
           0.00489023607224226,
           0.0024665165692567825,
           0.0367022342979908,
           0.0022008323576301336,
           0.006214894354343414,
           0.05389797315001488,
           0.014065191149711609
          ],
          [
           0.008968502283096313,
           0.0072794524021446705,
           0.007444552145898342,
           0.0037868462968617678,
           0.008121092803776264,
           0.005595099646598101,
           0.0022840274032205343,
           0.006594392471015453,
           0.012181000784039497,
           0.0036246012896299362,
           0.008244386874139309,
           0.007273200433701277,
           0.0038953039329499006,
           0.021792655810713768,
           0.004895209334790707,
           0.01213383860886097,
           0.02423633076250553,
           0.02771545760333538
          ],
          [
           0.009111846797168255,
           0.06934817880392075,
           0.006611399818211794,
           0.0058177015744149685,
           0.008310433477163315,
           0.002540911315008998,
           0.03588463366031647,
           0.04005343094468117,
           0.005334688816219568,
           0.0020575819071382284,
           0.0053098369389772415,
           0.004548539873212576,
           0.005839825142174959,
           0.012509685009717941,
           0.048519767820835114,
           0.008273979648947716,
           0.0038041388615965843,
           0.010814501903951168
          ],
          [
           0.011359260417521,
           0.007541324011981487,
           0.003946129232645035,
           0.0018329297890886664,
           0.0011145470198243856,
           0.014133572578430176,
           0.008440680801868439,
           0.003357813460752368,
           0.015531581826508045,
           0.0016690113116055727,
           0.02396671287715435,
           0.01387673057615757,
           0.0009090749663300812,
           0.02286853827536106,
           0.005328930914402008,
           0.0012636008905246854,
           0.04397232457995415,
           0.023265572264790535
          ],
          [
           0.003791581839323044,
           0.0032015785109251738,
           0.005291312467306852,
           0.0035189867485314608,
           0.009128862991929054,
           0.0074532818980515,
           0.003093595616519451,
           0.009973550215363503,
           0.0062817358411848545,
           0.005231943447142839,
           0.006777683272957802,
           0.0047968304716050625,
           0.005233745090663433,
           0.009802693501114845,
           0.003696991829201579,
           0.009508919902145863,
           0.020197177305817604,
           0.012197459116578102
          ],
          [
           0.0024701307993382215,
           0.0004672821960411966,
           0.0027630573604255915,
           0.0009885961189866066,
           0.0006494247354567051,
           0.013209164142608643,
           0.000501934380736202,
           0.00027288307319395244,
           0.003935209009796381,
           0.00046302031842060387,
           0.008642015978693962,
           0.0039050248451530933,
           0.0011205958435311913,
           0.010245769284665585,
           0.0004447594110388309,
           0.001305215759202838,
           0.07080195844173431,
           0.015681831166148186
          ],
          [
           0.004112644586712122,
           0.0023975875228643417,
           0.009130512364208698,
           0.0017875515623018146,
           0.0027738825883716345,
           0.007535920012742281,
           0.0007653298089280725,
           0.003837969619780779,
           0.005189861636608839,
           0.006692826282233,
           0.009615973569452763,
           0.005524104926735163,
           0.0009686253033578396,
           0.01506290677934885,
           0.001447175396606326,
           0.003029863815754652,
           0.02418658509850502,
           0.01547824777662754
          ],
          [
           0.008138737641274929,
           0.002971663372591138,
           0.006943938322365284,
           0.005320192780345678,
           0.002244194271042943,
           0.019472761079669,
           0.002058331621810794,
           0.011635089293122292,
           0.009579352103173733,
           0.0014387769624590874,
           0.015354433096945286,
           0.012865581549704075,
           0.002771775471046567,
           0.02762610651552677,
           0.0037048289086669683,
           0.002808509161695838,
           0.044106289744377136,
           0.028432557359337807
          ],
          [
           0.003542405553162098,
           0.0016025352524593472,
           0.013290404342114925,
           0.005013393238186836,
           0.0027638832107186317,
           0.019762953743338585,
           0.001377704320475459,
           0.0025983923114836216,
           0.008194615133106709,
           0.007493524346500635,
           0.007944543845951557,
           0.010293758474290371,
           0.0015522509347647429,
           0.02771148271858692,
           0.0029142876155674458,
           0.004386669024825096,
           0.03564991429448128,
           0.04427482560276985
          ],
          [
           0.0029419013299047947,
           0.007255315314978361,
           0.0034024077467620373,
           0.0034387276973575354,
           0.006315335631370544,
           0.011068413965404034,
           0.0018459402490407228,
           0.011622719466686249,
           0.004666306544095278,
           0.003927146550267935,
           0.0052579124458134174,
           0.0031280796974897385,
           0.005964524578303099,
           0.006593709345906973,
           0.00479729101061821,
           0.004188260529190302,
           0.02654246613383293,
           0.012057073414325714
          ],
          [
           0.0021534340921789408,
           0.0021010315977036953,
           0.006233995780348778,
           0.0010470736306160688,
           0.005761369131505489,
           0.006198941729962826,
           0.0005487772286869586,
           0.003137789433822036,
           0.004156104754656553,
           0.0028462111949920654,
           0.003875686787068844,
           0.0040461537428200245,
           0.0025004784110933542,
           0.010439774952828884,
           0.0027705912943929434,
           0.009497594088315964,
           0.02317759208381176,
           0.02895515039563179
          ],
          [
           0.0009617820614948869,
           0.0008624356705695391,
           0.031801287084817886,
           0.004783684387803078,
           0.020446712151169777,
           0.0011246007634326816,
           0.000303675071336329,
           0.0008233351400122046,
           0.0011014457559213042,
           0.03865271806716919,
           0.0005211586831137538,
           0.0019278799882158637,
           0.0005272247362881899,
           0.0010863610077649355,
           0.001404633279889822,
           0.008830460719764233,
           0.0017273076809942722,
           0.014049364253878593
          ],
          [
           0.0007728662458248436,
           0.002131856046617031,
           0.0029151332564651966,
           0.0011641610180959105,
           0.0015479024732485414,
           0.0055963885970413685,
           0.0003989476535934955,
           0.000672098365612328,
           0.0027023267466574907,
           0.002011131029576063,
           0.007253226824104786,
           0.0014529734617099166,
           0.0004070535069331527,
           0.003530257847160101,
           0.00030806020367890596,
           0.0014136808458715677,
           0.04554458335042,
           0.016036352142691612
          ],
          [
           0.0022786767221987247,
           0.001799977500922978,
           0.0013236146187409759,
           0.001170897507108748,
           0.0020126153249293566,
           0.009914805181324482,
           0.00011228411312913522,
           0.003982041962444782,
           0.0049097235314548016,
           0.0011678723385557532,
           0.008633370511233807,
           0.001715141930617392,
           0.0018767807632684708,
           0.014328433200716972,
           0.0025368346832692623,
           0.001454411307349801,
           0.04745658114552498,
           0.011348322033882141
          ],
          [
           0.003551557892933488,
           0.0006726027349941432,
           0.004186906386166811,
           0.0018942345632240176,
           0.005688603036105633,
           0.02127603068947792,
           0.00014952686615288258,
           0.0005556641262955964,
           0.006043690722435713,
           0.003402352798730135,
           0.011033399030566216,
           0.003164490917697549,
           0.0011722163762897253,
           0.016811538487672806,
           0.0013264571316540241,
           0.0027204728685319424,
           0.0735749900341034,
           0.02319377288222313
          ],
          [
           0.0008365705143660307,
           0.0011666256468743086,
           0.002515558386221528,
           0.0009196512401103973,
           0.000725029269233346,
           0.0070700254291296005,
           0.0004591157485265285,
           0.00034370526554994285,
           0.0037835731636732817,
           0.0029415104072541,
           0.007734242361038923,
           0.002161178505048156,
           0.00030977962887845933,
           0.007220640778541565,
           0.00041332890396006405,
           0.0026995493099093437,
           0.0582188181579113,
           0.019738374277949333
          ],
          [
           0.0008860802627168596,
           0.0008103825384750962,
           0.0014908798038959503,
           0.0003988152020610869,
           0.00046620951616205275,
           0.007436045445501804,
           0.00019340698781888932,
           0.0004114337498322129,
           0.002384990220889449,
           0.0010507742408663034,
           0.006908295210450888,
           0.0015094683039933443,
           0.0003009651554748416,
           0.009520618245005608,
           0.0003247156273573637,
           0.0013772075762972236,
           0.08458109945058823,
           0.014874757267534733
          ],
          [
           0.004034338518977165,
           0.00377978035248816,
           0.002274281345307827,
           0.0014358048792928457,
           0.00418213801458478,
           0.00407362449914217,
           0.0016563525423407555,
           0.0035429326817393303,
           0.005302723031491041,
           0.0016950755380094051,
           0.004251381382346153,
           0.004248004872351885,
           0.002009250456467271,
           0.007302158046513796,
           0.004370744805783033,
           0.0030097668059170246,
           0.0284415353089571,
           0.023304646834731102
          ],
          [
           0.0016773021779954433,
           0.0005222265026532114,
           0.002169613493606448,
           0.0002574897953309119,
           0.0006294587510637939,
           0.010039824061095715,
           0.00017913561896421015,
           0.0006488976068794727,
           0.002881636144593358,
           0.0020516810473054647,
           0.014498271048069,
           0.001661650836467743,
           0.000246588111622259,
           0.030864214524626732,
           0.0006842625443823636,
           0.0018349584424868226,
           0.07931769639253616,
           0.015197896398603916
          ],
          [
           0.002273648977279663,
           0.0017565912567079067,
           0.001518195029348135,
           0.00046110557741485536,
           0.0009643440716899931,
           0.008608223870396614,
           0.00013835885329172015,
           0.000694478745572269,
           0.003552061738446355,
           0.0012748531298711896,
           0.005019582342356443,
           0.0014256439171731472,
           0.0005435768398456275,
           0.025157282128930092,
           0.0012882462469860911,
           0.003033954184502363,
           0.0514439232647419,
           0.02212448976933956
          ],
          [
           0.0040896618738770485,
           0.003821187186986208,
           0.0035168600734323263,
           0.0008922978886403143,
           0.0017354907467961311,
           0.0024789965245872736,
           0.001227178843691945,
           0.001792377675883472,
           0.004961347673088312,
           0.001409834367223084,
           0.004699398763477802,
           0.005686493590474129,
           0.0012967477086931467,
           0.011721283197402954,
           0.001551058259792626,
           0.003610320622101426,
           0.04915864020586014,
           0.04255899414420128
          ],
          [
           0.005065609700977802,
           0.0076826028525829315,
           0.0031001653987914324,
           0.0019179887603968382,
           0.0069059510715305805,
           0.004291834309697151,
           0.004508011043071747,
           0.006683439016342163,
           0.0048758285120129585,
           0.0017483540577813983,
           0.004885944537818432,
           0.004736392293125391,
           0.003618803806602955,
           0.008954780176281929,
           0.010226626880466938,
           0.0051893312484025955,
           0.022110406309366226,
           0.023049525916576385
          ],
          [
           0.004295781254768372,
           0.00161639042198658,
           0.005146989598870277,
           0.0038036988116800785,
           0.0019476325251162052,
           0.01866762340068817,
           0.0007326905615627766,
           0.004283279180526733,
           0.004641062580049038,
           0.00119320722296834,
           0.013390897773206234,
           0.005918518174439669,
           0.0017940610414370894,
           0.020551422610878944,
           0.0020944674033671618,
           0.0018382776761427522,
           0.05131511762738228,
           0.018137430772185326
          ],
          [
           0.005365567747503519,
           0.0006396740791387856,
           0.009033759124577045,
           0.004386896267533302,
           0.004344077780842781,
           0.019618531689047813,
           0.0008747478714212775,
           0.009298216551542282,
           0.0048382580280303955,
           0.003871577326208353,
           0.009001961909234524,
           0.006419078912585974,
           0.00159236672334373,
           0.017536761239171028,
           0.0015102775068953633,
           0.004213111475110054,
           0.0469355508685112,
           0.017241673544049263
          ],
          [
           0.00498847384005785,
           0.0011548555921763182,
           0.0013892498100176454,
           0.0008480975520797074,
           0.0007663369760848582,
           0.015093797817826271,
           0.00022953884035814553,
           0.0009302331600338221,
           0.006937635131180286,
           0.0008131729555316269,
           0.011964467354118824,
           0.003935117274522781,
           0.001189212896861136,
           0.01713966205716133,
           0.0005871964385733008,
           0.001936300890520215,
           0.08405135571956635,
           0.022573979571461678
          ],
          [
           0.0038546654395759106,
           0.00355255464091897,
           0.002662807935848832,
           0.0009189841221086681,
           0.0024970860686153173,
           0.0072189876809716225,
           0.001233935821801424,
           0.005572740454226732,
           0.0054562883451581,
           0.0010560101363807917,
           0.01109055895358324,
           0.0022376873530447483,
           0.002172834472730756,
           0.01972012408077717,
           0.0021545235067605972,
           0.0035456158220767975,
           0.043095074594020844,
           0.0148106524720788
          ],
          [
           0.0030929497443139553,
           0.004849474411457777,
           0.0030011527705937624,
           0.004624491557478905,
           0.002674548188224435,
           0.02466958574950695,
           0.008953732438385487,
           0.003046872792765498,
           0.003186197020113468,
           0.001093881786800921,
           0.020258530974388123,
           0.004473310429602861,
           0.0008601999725215137,
           0.017579469829797745,
           0.0047786301001906395,
           0.01781936176121235,
           0.05075545981526375,
           0.013728883117437363
          ],
          [
           0.0014878164511173964,
           0.0020947346929460764,
           0.02775520645081997,
           0.0024161015171557665,
           0.02177528105676174,
           0.001606935984455049,
           0.0019413355039432645,
           0.0030966601334512234,
           0.00105277297552675,
           0.03093203715980053,
           0.001198906684294343,
           0.002613974269479513,
           0.0013107964769005775,
           0.0026099071837961674,
           0.002260338980704546,
           0.0072958762757480145,
           0.0042569576762616634,
           0.015130412764847279
          ],
          [
           0.0031594408210366964,
           0.009675274603068829,
           0.0019257637904956937,
           0.002592455130070448,
           0.003950348123908043,
           0.011427654884755611,
           0.0031435599084943533,
           0.009456123225390911,
           0.005467380862683058,
           0.0017178712878376245,
           0.008107322268188,
           0.0032668467611074448,
           0.0038355954457074404,
           0.008461939170956612,
           0.006353107746690512,
           0.002934289164841175,
           0.028724126517772675,
           0.0079079894348979
          ],
          [
           0.004687368869781494,
           0.009244179353117943,
           0.0020365891978144646,
           0.00422487361356616,
           0.001982191577553749,
           0.02844647876918316,
           0.00401088735088706,
           0.00951073132455349,
           0.013004885986447334,
           0.0033183209598064423,
           0.037947338074445724,
           0.004242933355271816,
           0.006072498857975006,
           0.02736574225127697,
           0.0030368135776370764,
           0.004548767115920782,
           0.03469263017177582,
           0.004513303749263287
          ]
         ]
        }
       ],
       "layout": {
        "template": {
         "data": {
          "bar": [
           {
            "error_x": {
             "color": "#2a3f5f"
            },
            "error_y": {
             "color": "#2a3f5f"
            },
            "marker": {
             "line": {
              "color": "#E5ECF6",
              "width": 0.5
             }
            },
            "type": "bar"
           }
          ],
          "barpolar": [
           {
            "marker": {
             "line": {
              "color": "#E5ECF6",
              "width": 0.5
             }
            },
            "type": "barpolar"
           }
          ],
          "carpet": [
           {
            "aaxis": {
             "endlinecolor": "#2a3f5f",
             "gridcolor": "white",
             "linecolor": "white",
             "minorgridcolor": "white",
             "startlinecolor": "#2a3f5f"
            },
            "baxis": {
             "endlinecolor": "#2a3f5f",
             "gridcolor": "white",
             "linecolor": "white",
             "minorgridcolor": "white",
             "startlinecolor": "#2a3f5f"
            },
            "type": "carpet"
           }
          ],
          "choropleth": [
           {
            "colorbar": {
             "outlinewidth": 0,
             "ticks": ""
            },
            "type": "choropleth"
           }
          ],
          "contour": [
           {
            "colorbar": {
             "outlinewidth": 0,
             "ticks": ""
            },
            "colorscale": [
             [
              0,
              "#0d0887"
             ],
             [
              0.1111111111111111,
              "#46039f"
             ],
             [
              0.2222222222222222,
              "#7201a8"
             ],
             [
              0.3333333333333333,
              "#9c179e"
             ],
             [
              0.4444444444444444,
              "#bd3786"
             ],
             [
              0.5555555555555556,
              "#d8576b"
             ],
             [
              0.6666666666666666,
              "#ed7953"
             ],
             [
              0.7777777777777778,
              "#fb9f3a"
             ],
             [
              0.8888888888888888,
              "#fdca26"
             ],
             [
              1,
              "#f0f921"
             ]
            ],
            "type": "contour"
           }
          ],
          "contourcarpet": [
           {
            "colorbar": {
             "outlinewidth": 0,
             "ticks": ""
            },
            "type": "contourcarpet"
           }
          ],
          "heatmap": [
           {
            "colorbar": {
             "outlinewidth": 0,
             "ticks": ""
            },
            "colorscale": [
             [
              0,
              "#0d0887"
             ],
             [
              0.1111111111111111,
              "#46039f"
             ],
             [
              0.2222222222222222,
              "#7201a8"
             ],
             [
              0.3333333333333333,
              "#9c179e"
             ],
             [
              0.4444444444444444,
              "#bd3786"
             ],
             [
              0.5555555555555556,
              "#d8576b"
             ],
             [
              0.6666666666666666,
              "#ed7953"
             ],
             [
              0.7777777777777778,
              "#fb9f3a"
             ],
             [
              0.8888888888888888,
              "#fdca26"
             ],
             [
              1,
              "#f0f921"
             ]
            ],
            "type": "heatmap"
           }
          ],
          "heatmapgl": [
           {
            "colorbar": {
             "outlinewidth": 0,
             "ticks": ""
            },
            "colorscale": [
             [
              0,
              "#0d0887"
             ],
             [
              0.1111111111111111,
              "#46039f"
             ],
             [
              0.2222222222222222,
              "#7201a8"
             ],
             [
              0.3333333333333333,
              "#9c179e"
             ],
             [
              0.4444444444444444,
              "#bd3786"
             ],
             [
              0.5555555555555556,
              "#d8576b"
             ],
             [
              0.6666666666666666,
              "#ed7953"
             ],
             [
              0.7777777777777778,
              "#fb9f3a"
             ],
             [
              0.8888888888888888,
              "#fdca26"
             ],
             [
              1,
              "#f0f921"
             ]
            ],
            "type": "heatmapgl"
           }
          ],
          "histogram": [
           {
            "marker": {
             "colorbar": {
              "outlinewidth": 0,
              "ticks": ""
             }
            },
            "type": "histogram"
           }
          ],
          "histogram2d": [
           {
            "colorbar": {
             "outlinewidth": 0,
             "ticks": ""
            },
            "colorscale": [
             [
              0,
              "#0d0887"
             ],
             [
              0.1111111111111111,
              "#46039f"
             ],
             [
              0.2222222222222222,
              "#7201a8"
             ],
             [
              0.3333333333333333,
              "#9c179e"
             ],
             [
              0.4444444444444444,
              "#bd3786"
             ],
             [
              0.5555555555555556,
              "#d8576b"
             ],
             [
              0.6666666666666666,
              "#ed7953"
             ],
             [
              0.7777777777777778,
              "#fb9f3a"
             ],
             [
              0.8888888888888888,
              "#fdca26"
             ],
             [
              1,
              "#f0f921"
             ]
            ],
            "type": "histogram2d"
           }
          ],
          "histogram2dcontour": [
           {
            "colorbar": {
             "outlinewidth": 0,
             "ticks": ""
            },
            "colorscale": [
             [
              0,
              "#0d0887"
             ],
             [
              0.1111111111111111,
              "#46039f"
             ],
             [
              0.2222222222222222,
              "#7201a8"
             ],
             [
              0.3333333333333333,
              "#9c179e"
             ],
             [
              0.4444444444444444,
              "#bd3786"
             ],
             [
              0.5555555555555556,
              "#d8576b"
             ],
             [
              0.6666666666666666,
              "#ed7953"
             ],
             [
              0.7777777777777778,
              "#fb9f3a"
             ],
             [
              0.8888888888888888,
              "#fdca26"
             ],
             [
              1,
              "#f0f921"
             ]
            ],
            "type": "histogram2dcontour"
           }
          ],
          "mesh3d": [
           {
            "colorbar": {
             "outlinewidth": 0,
             "ticks": ""
            },
            "type": "mesh3d"
           }
          ],
          "parcoords": [
           {
            "line": {
             "colorbar": {
              "outlinewidth": 0,
              "ticks": ""
             }
            },
            "type": "parcoords"
           }
          ],
          "pie": [
           {
            "automargin": true,
            "type": "pie"
           }
          ],
          "scatter": [
           {
            "marker": {
             "colorbar": {
              "outlinewidth": 0,
              "ticks": ""
             }
            },
            "type": "scatter"
           }
          ],
          "scatter3d": [
           {
            "line": {
             "colorbar": {
              "outlinewidth": 0,
              "ticks": ""
             }
            },
            "marker": {
             "colorbar": {
              "outlinewidth": 0,
              "ticks": ""
             }
            },
            "type": "scatter3d"
           }
          ],
          "scattercarpet": [
           {
            "marker": {
             "colorbar": {
              "outlinewidth": 0,
              "ticks": ""
             }
            },
            "type": "scattercarpet"
           }
          ],
          "scattergeo": [
           {
            "marker": {
             "colorbar": {
              "outlinewidth": 0,
              "ticks": ""
             }
            },
            "type": "scattergeo"
           }
          ],
          "scattergl": [
           {
            "marker": {
             "colorbar": {
              "outlinewidth": 0,
              "ticks": ""
             }
            },
            "type": "scattergl"
           }
          ],
          "scattermapbox": [
           {
            "marker": {
             "colorbar": {
              "outlinewidth": 0,
              "ticks": ""
             }
            },
            "type": "scattermapbox"
           }
          ],
          "scatterpolar": [
           {
            "marker": {
             "colorbar": {
              "outlinewidth": 0,
              "ticks": ""
             }
            },
            "type": "scatterpolar"
           }
          ],
          "scatterpolargl": [
           {
            "marker": {
             "colorbar": {
              "outlinewidth": 0,
              "ticks": ""
             }
            },
            "type": "scatterpolargl"
           }
          ],
          "scatterternary": [
           {
            "marker": {
             "colorbar": {
              "outlinewidth": 0,
              "ticks": ""
             }
            },
            "type": "scatterternary"
           }
          ],
          "surface": [
           {
            "colorbar": {
             "outlinewidth": 0,
             "ticks": ""
            },
            "colorscale": [
             [
              0,
              "#0d0887"
             ],
             [
              0.1111111111111111,
              "#46039f"
             ],
             [
              0.2222222222222222,
              "#7201a8"
             ],
             [
              0.3333333333333333,
              "#9c179e"
             ],
             [
              0.4444444444444444,
              "#bd3786"
             ],
             [
              0.5555555555555556,
              "#d8576b"
             ],
             [
              0.6666666666666666,
              "#ed7953"
             ],
             [
              0.7777777777777778,
              "#fb9f3a"
             ],
             [
              0.8888888888888888,
              "#fdca26"
             ],
             [
              1,
              "#f0f921"
             ]
            ],
            "type": "surface"
           }
          ],
          "table": [
           {
            "cells": {
             "fill": {
              "color": "#EBF0F8"
             },
             "line": {
              "color": "white"
             }
            },
            "header": {
             "fill": {
              "color": "#C8D4E3"
             },
             "line": {
              "color": "white"
             }
            },
            "type": "table"
           }
          ]
         },
         "layout": {
          "annotationdefaults": {
           "arrowcolor": "#2a3f5f",
           "arrowhead": 0,
           "arrowwidth": 1
          },
          "coloraxis": {
           "colorbar": {
            "outlinewidth": 0,
            "ticks": ""
           }
          },
          "colorscale": {
           "diverging": [
            [
             0,
             "#8e0152"
            ],
            [
             0.1,
             "#c51b7d"
            ],
            [
             0.2,
             "#de77ae"
            ],
            [
             0.3,
             "#f1b6da"
            ],
            [
             0.4,
             "#fde0ef"
            ],
            [
             0.5,
             "#f7f7f7"
            ],
            [
             0.6,
             "#e6f5d0"
            ],
            [
             0.7,
             "#b8e186"
            ],
            [
             0.8,
             "#7fbc41"
            ],
            [
             0.9,
             "#4d9221"
            ],
            [
             1,
             "#276419"
            ]
           ],
           "sequential": [
            [
             0,
             "#0d0887"
            ],
            [
             0.1111111111111111,
             "#46039f"
            ],
            [
             0.2222222222222222,
             "#7201a8"
            ],
            [
             0.3333333333333333,
             "#9c179e"
            ],
            [
             0.4444444444444444,
             "#bd3786"
            ],
            [
             0.5555555555555556,
             "#d8576b"
            ],
            [
             0.6666666666666666,
             "#ed7953"
            ],
            [
             0.7777777777777778,
             "#fb9f3a"
            ],
            [
             0.8888888888888888,
             "#fdca26"
            ],
            [
             1,
             "#f0f921"
            ]
           ],
           "sequentialminus": [
            [
             0,
             "#0d0887"
            ],
            [
             0.1111111111111111,
             "#46039f"
            ],
            [
             0.2222222222222222,
             "#7201a8"
            ],
            [
             0.3333333333333333,
             "#9c179e"
            ],
            [
             0.4444444444444444,
             "#bd3786"
            ],
            [
             0.5555555555555556,
             "#d8576b"
            ],
            [
             0.6666666666666666,
             "#ed7953"
            ],
            [
             0.7777777777777778,
             "#fb9f3a"
            ],
            [
             0.8888888888888888,
             "#fdca26"
            ],
            [
             1,
             "#f0f921"
            ]
           ]
          },
          "colorway": [
           "#636efa",
           "#EF553B",
           "#00cc96",
           "#ab63fa",
           "#FFA15A",
           "#19d3f3",
           "#FF6692",
           "#B6E880",
           "#FF97FF",
           "#FECB52"
          ],
          "font": {
           "color": "#2a3f5f"
          },
          "geo": {
           "bgcolor": "white",
           "lakecolor": "white",
           "landcolor": "#E5ECF6",
           "showlakes": true,
           "showland": true,
           "subunitcolor": "white"
          },
          "hoverlabel": {
           "align": "left"
          },
          "hovermode": "closest",
          "mapbox": {
           "style": "light"
          },
          "paper_bgcolor": "white",
          "plot_bgcolor": "#E5ECF6",
          "polar": {
           "angularaxis": {
            "gridcolor": "white",
            "linecolor": "white",
            "ticks": ""
           },
           "bgcolor": "#E5ECF6",
           "radialaxis": {
            "gridcolor": "white",
            "linecolor": "white",
            "ticks": ""
           }
          },
          "scene": {
           "xaxis": {
            "backgroundcolor": "#E5ECF6",
            "gridcolor": "white",
            "gridwidth": 2,
            "linecolor": "white",
            "showbackground": true,
            "ticks": "",
            "zerolinecolor": "white"
           },
           "yaxis": {
            "backgroundcolor": "#E5ECF6",
            "gridcolor": "white",
            "gridwidth": 2,
            "linecolor": "white",
            "showbackground": true,
            "ticks": "",
            "zerolinecolor": "white"
           },
           "zaxis": {
            "backgroundcolor": "#E5ECF6",
            "gridcolor": "white",
            "gridwidth": 2,
            "linecolor": "white",
            "showbackground": true,
            "ticks": "",
            "zerolinecolor": "white"
           }
          },
          "shapedefaults": {
           "line": {
            "color": "#2a3f5f"
           }
          },
          "ternary": {
           "aaxis": {
            "gridcolor": "white",
            "linecolor": "white",
            "ticks": ""
           },
           "baxis": {
            "gridcolor": "white",
            "linecolor": "white",
            "ticks": ""
           },
           "bgcolor": "#E5ECF6",
           "caxis": {
            "gridcolor": "white",
            "linecolor": "white",
            "ticks": ""
           }
          },
          "title": {
           "x": 0.05
          },
          "xaxis": {
           "automargin": true,
           "gridcolor": "white",
           "linecolor": "white",
           "ticks": "",
           "title": {
            "standoff": 15
           },
           "zerolinecolor": "white",
           "zerolinewidth": 2
          },
          "yaxis": {
           "automargin": true,
           "gridcolor": "white",
           "linecolor": "white",
           "ticks": "",
           "title": {
            "standoff": 15
           },
           "zerolinecolor": "white",
           "zerolinewidth": 2
          }
         }
        },
        "title": {
         "text": "Text vs Claim"
        },
        "xaxis": {
         "nticks": 36
        }
       }
      },
      "text/html": [
       "<div>\n",
       "        \n",
       "        \n",
       "            <div id=\"74858a0f-cc61-41de-b902-ca63e1474c0b\" class=\"plotly-graph-div\" style=\"height:525px; width:100%;\"></div>\n",
       "            <script type=\"text/javascript\">\n",
       "                require([\"plotly\"], function(Plotly) {\n",
       "                    window.PLOTLYENV=window.PLOTLYENV || {};\n",
       "                    \n",
       "                if (document.getElementById(\"74858a0f-cc61-41de-b902-ca63e1474c0b\")) {\n",
       "                    Plotly.newPlot(\n",
       "                        '74858a0f-cc61-41de-b902-ca63e1474c0b',\n",
       "                        [{\"colorscale\": [[0.0, \"rgb(255,247,251)\"], [0.125, \"rgb(236,226,240)\"], [0.25, \"rgb(208,209,230)\"], [0.375, \"rgb(166,189,219)\"], [0.5, \"rgb(103,169,207)\"], [0.625, \"rgb(54,144,192)\"], [0.75, \"rgb(2,129,138)\"], [0.875, \"rgb(1,108,89)\"], [1.0, \"rgb(1,70,54)\"]], \"type\": \"heatmap\", \"x\": [\"a\", \"van\", \"was\", \"also\", \"abducted\", \"on\", \"denmark\", \"street\", \"and\", \"pushed\", \"in\", \"the\", \"direction\", \"of\", \"police\", \"lines\", \".\", \"[SEP]\"], \"y\": [\"[CLS]\", \"a\", \"van\", \"was\", \"also\", \"hi\", \"##jack\", \"##ed\", \"in\", \"denmark\", \"street\", \"and\", \"pushed\", \"towards\", \"police\", \"lines\", \".\", \"it\", \"is\", \"not\", \"yet\", \"known\", \"how\", \"serious\", \"the\", \"injuries\", \"sustained\", \"by\", \"the\", \"police\", \"officers\", \"taken\", \"to\", \"hospital\", \"are\", \".\", \"[SEP]\"], \"z\": [[0.008572396822273731, 0.014474528841674328, 0.0025318693369627, 0.006546875461935997, 0.001939081121236086, 0.04417165368795395, 0.00744805671274662, 0.012792698107659817, 0.026993339881300926, 0.0022294146474450827, 0.07031314074993134, 0.0074273268692195415, 0.009904123842716217, 0.04011267051100731, 0.00799568835645914, 0.004605008754879236, 0.03644721210002899, 0.0052739959210157394], [0.0020053412299603224, 0.005205145105719566, 0.0036360432859510183, 0.0014343771617859602, 0.006146104075014591, 0.008549067191779613, 0.0033624758943915367, 0.004568115808069706, 0.004004482179880142, 0.003474980592727661, 0.00807252898812294, 0.004914579913020134, 0.003767450340092182, 0.0080927899107337, 0.004175284877419472, 0.007383734919130802, 0.020108921453356743, 0.008918439038097858], [0.002463963581249118, 0.00495097367092967, 0.002245360752567649, 0.0020050460007041693, 0.0023156278766691685, 0.006528302561491728, 0.1080150157213211, 0.014384308829903603, 0.005900091957300901, 0.0009799894178286195, 0.011242393404245377, 0.003758699633181095, 0.0027672192081809044, 0.011895806528627872, 0.002959534991532564, 0.0029353024438023567, 0.017397331073880196, 0.010512166656553745], [0.003997049760073423, 0.0037272011395543814, 0.0017413629684597254, 0.0010463049402460456, 0.001214225310832262, 0.0190765131264925, 0.0009409599006175995, 0.007769803982228041, 0.0052488213405013084, 0.00037311369669623673, 0.011562377214431763, 0.00343691254965961, 0.0031527425162494183, 0.02872968651354313, 0.008429918438196182, 0.005955227185040712, 0.03764728829264641, 0.023923464119434357], [0.005001077428460121, 0.00126380764413625, 0.0024030888453125954, 0.0009745424031279981, 0.0043251062743365765, 0.014651473611593246, 0.0007862066850066185, 0.00781633798032999, 0.004977320786565542, 0.0010884421644732356, 0.013100504875183105, 0.002466117963194847, 0.005467506591230631, 0.016681266948580742, 0.002602260559797287, 0.0057036904618144035, 0.04609379917383194, 0.01023134496062994], [0.021237142384052277, 0.0012235232861712575, 0.005486861802637577, 0.0016379219014197588, 0.0015466532204300165, 0.00399630656465888, 0.0022432436235249043, 0.0034988047555088997, 0.023981846868991852, 0.002542516216635704, 0.006327083334326744, 0.019080590456724167, 0.0015046579064801335, 0.009281608276069164, 0.0017553024226799607, 0.001851448556408286, 0.03620084002614021, 0.05914221704006195], [0.009603708051145077, 0.0030589019879698753, 0.0048743439838290215, 0.0019479653565213084, 0.002371203852817416, 0.016342340037226677, 0.007388430181890726, 0.004825694020837545, 0.007162997964769602, 0.0014074585633352399, 0.015392197296023369, 0.007398177869617939, 0.0037666065618395805, 0.026117470115423203, 0.0041419221088290215, 0.011408291757106781, 0.0467296838760376, 0.03391626104712486], [0.002926231361925602, 0.0015878267586231232, 0.002524113981053233, 0.0014714205171912909, 0.0008513284847140312, 0.03820096701383591, 0.0002886101428885013, 0.0015260021900758147, 0.008413312025368214, 0.0020883334800601006, 0.02791999839246273, 0.00489023607224226, 0.0024665165692567825, 0.0367022342979908, 0.0022008323576301336, 0.006214894354343414, 0.05389797315001488, 0.014065191149711609], [0.008968502283096313, 0.0072794524021446705, 0.007444552145898342, 0.0037868462968617678, 0.008121092803776264, 0.005595099646598101, 0.0022840274032205343, 0.006594392471015453, 0.012181000784039497, 0.0036246012896299362, 0.008244386874139309, 0.007273200433701277, 0.0038953039329499006, 0.021792655810713768, 0.004895209334790707, 0.01213383860886097, 0.02423633076250553, 0.02771545760333538], [0.009111846797168255, 0.06934817880392075, 0.006611399818211794, 0.0058177015744149685, 0.008310433477163315, 0.002540911315008998, 0.03588463366031647, 0.04005343094468117, 0.005334688816219568, 0.0020575819071382284, 0.0053098369389772415, 0.004548539873212576, 0.005839825142174959, 0.012509685009717941, 0.048519767820835114, 0.008273979648947716, 0.0038041388615965843, 0.010814501903951168], [0.011359260417521, 0.007541324011981487, 0.003946129232645035, 0.0018329297890886664, 0.0011145470198243856, 0.014133572578430176, 0.008440680801868439, 0.003357813460752368, 0.015531581826508045, 0.0016690113116055727, 0.02396671287715435, 0.01387673057615757, 0.0009090749663300812, 0.02286853827536106, 0.005328930914402008, 0.0012636008905246854, 0.04397232457995415, 0.023265572264790535], [0.003791581839323044, 0.0032015785109251738, 0.005291312467306852, 0.0035189867485314608, 0.009128862991929054, 0.0074532818980515, 0.003093595616519451, 0.009973550215363503, 0.0062817358411848545, 0.005231943447142839, 0.006777683272957802, 0.0047968304716050625, 0.005233745090663433, 0.009802693501114845, 0.003696991829201579, 0.009508919902145863, 0.020197177305817604, 0.012197459116578102], [0.0024701307993382215, 0.0004672821960411966, 0.0027630573604255915, 0.0009885961189866066, 0.0006494247354567051, 0.013209164142608643, 0.000501934380736202, 0.00027288307319395244, 0.003935209009796381, 0.00046302031842060387, 0.008642015978693962, 0.0039050248451530933, 0.0011205958435311913, 0.010245769284665585, 0.0004447594110388309, 0.001305215759202838, 0.07080195844173431, 0.015681831166148186], [0.004112644586712122, 0.0023975875228643417, 0.009130512364208698, 0.0017875515623018146, 0.0027738825883716345, 0.007535920012742281, 0.0007653298089280725, 0.003837969619780779, 0.005189861636608839, 0.006692826282233, 0.009615973569452763, 0.005524104926735163, 0.0009686253033578396, 0.01506290677934885, 0.001447175396606326, 0.003029863815754652, 0.02418658509850502, 0.01547824777662754], [0.008138737641274929, 0.002971663372591138, 0.006943938322365284, 0.005320192780345678, 0.002244194271042943, 0.019472761079669, 0.002058331621810794, 0.011635089293122292, 0.009579352103173733, 0.0014387769624590874, 0.015354433096945286, 0.012865581549704075, 0.002771775471046567, 0.02762610651552677, 0.0037048289086669683, 0.002808509161695838, 0.044106289744377136, 0.028432557359337807], [0.003542405553162098, 0.0016025352524593472, 0.013290404342114925, 0.005013393238186836, 0.0027638832107186317, 0.019762953743338585, 0.001377704320475459, 0.0025983923114836216, 0.008194615133106709, 0.007493524346500635, 0.007944543845951557, 0.010293758474290371, 0.0015522509347647429, 0.02771148271858692, 0.0029142876155674458, 0.004386669024825096, 0.03564991429448128, 0.04427482560276985], [0.0029419013299047947, 0.007255315314978361, 0.0034024077467620373, 0.0034387276973575354, 0.006315335631370544, 0.011068413965404034, 0.0018459402490407228, 0.011622719466686249, 0.004666306544095278, 0.003927146550267935, 0.0052579124458134174, 0.0031280796974897385, 0.005964524578303099, 0.006593709345906973, 0.00479729101061821, 0.004188260529190302, 0.02654246613383293, 0.012057073414325714], [0.0021534340921789408, 0.0021010315977036953, 0.006233995780348778, 0.0010470736306160688, 0.005761369131505489, 0.006198941729962826, 0.0005487772286869586, 0.003137789433822036, 0.004156104754656553, 0.0028462111949920654, 0.003875686787068844, 0.0040461537428200245, 0.0025004784110933542, 0.010439774952828884, 0.0027705912943929434, 0.009497594088315964, 0.02317759208381176, 0.02895515039563179], [0.0009617820614948869, 0.0008624356705695391, 0.031801287084817886, 0.004783684387803078, 0.020446712151169777, 0.0011246007634326816, 0.000303675071336329, 0.0008233351400122046, 0.0011014457559213042, 0.03865271806716919, 0.0005211586831137538, 0.0019278799882158637, 0.0005272247362881899, 0.0010863610077649355, 0.001404633279889822, 0.008830460719764233, 0.0017273076809942722, 0.014049364253878593], [0.0007728662458248436, 0.002131856046617031, 0.0029151332564651966, 0.0011641610180959105, 0.0015479024732485414, 0.0055963885970413685, 0.0003989476535934955, 0.000672098365612328, 0.0027023267466574907, 0.002011131029576063, 0.007253226824104786, 0.0014529734617099166, 0.0004070535069331527, 0.003530257847160101, 0.00030806020367890596, 0.0014136808458715677, 0.04554458335042, 0.016036352142691612], [0.0022786767221987247, 0.001799977500922978, 0.0013236146187409759, 0.001170897507108748, 0.0020126153249293566, 0.009914805181324482, 0.00011228411312913522, 0.003982041962444782, 0.0049097235314548016, 0.0011678723385557532, 0.008633370511233807, 0.001715141930617392, 0.0018767807632684708, 0.014328433200716972, 0.0025368346832692623, 0.001454411307349801, 0.04745658114552498, 0.011348322033882141], [0.003551557892933488, 0.0006726027349941432, 0.004186906386166811, 0.0018942345632240176, 0.005688603036105633, 0.02127603068947792, 0.00014952686615288258, 0.0005556641262955964, 0.006043690722435713, 0.003402352798730135, 0.011033399030566216, 0.003164490917697549, 0.0011722163762897253, 0.016811538487672806, 0.0013264571316540241, 0.0027204728685319424, 0.0735749900341034, 0.02319377288222313], [0.0008365705143660307, 0.0011666256468743086, 0.002515558386221528, 0.0009196512401103973, 0.000725029269233346, 0.0070700254291296005, 0.0004591157485265285, 0.00034370526554994285, 0.0037835731636732817, 0.0029415104072541, 0.007734242361038923, 0.002161178505048156, 0.00030977962887845933, 0.007220640778541565, 0.00041332890396006405, 0.0026995493099093437, 0.0582188181579113, 0.019738374277949333], [0.0008860802627168596, 0.0008103825384750962, 0.0014908798038959503, 0.0003988152020610869, 0.00046620951616205275, 0.007436045445501804, 0.00019340698781888932, 0.0004114337498322129, 0.002384990220889449, 0.0010507742408663034, 0.006908295210450888, 0.0015094683039933443, 0.0003009651554748416, 0.009520618245005608, 0.0003247156273573637, 0.0013772075762972236, 0.08458109945058823, 0.014874757267534733], [0.004034338518977165, 0.00377978035248816, 0.002274281345307827, 0.0014358048792928457, 0.00418213801458478, 0.00407362449914217, 0.0016563525423407555, 0.0035429326817393303, 0.005302723031491041, 0.0016950755380094051, 0.004251381382346153, 0.004248004872351885, 0.002009250456467271, 0.007302158046513796, 0.004370744805783033, 0.0030097668059170246, 0.0284415353089571, 0.023304646834731102], [0.0016773021779954433, 0.0005222265026532114, 0.002169613493606448, 0.0002574897953309119, 0.0006294587510637939, 0.010039824061095715, 0.00017913561896421015, 0.0006488976068794727, 0.002881636144593358, 0.0020516810473054647, 0.014498271048069, 0.001661650836467743, 0.000246588111622259, 0.030864214524626732, 0.0006842625443823636, 0.0018349584424868226, 0.07931769639253616, 0.015197896398603916], [0.002273648977279663, 0.0017565912567079067, 0.001518195029348135, 0.00046110557741485536, 0.0009643440716899931, 0.008608223870396614, 0.00013835885329172015, 0.000694478745572269, 0.003552061738446355, 0.0012748531298711896, 0.005019582342356443, 0.0014256439171731472, 0.0005435768398456275, 0.025157282128930092, 0.0012882462469860911, 0.003033954184502363, 0.0514439232647419, 0.02212448976933956], [0.0040896618738770485, 0.003821187186986208, 0.0035168600734323263, 0.0008922978886403143, 0.0017354907467961311, 0.0024789965245872736, 0.001227178843691945, 0.001792377675883472, 0.004961347673088312, 0.001409834367223084, 0.004699398763477802, 0.005686493590474129, 0.0012967477086931467, 0.011721283197402954, 0.001551058259792626, 0.003610320622101426, 0.04915864020586014, 0.04255899414420128], [0.005065609700977802, 0.0076826028525829315, 0.0031001653987914324, 0.0019179887603968382, 0.0069059510715305805, 0.004291834309697151, 0.004508011043071747, 0.006683439016342163, 0.0048758285120129585, 0.0017483540577813983, 0.004885944537818432, 0.004736392293125391, 0.003618803806602955, 0.008954780176281929, 0.010226626880466938, 0.0051893312484025955, 0.022110406309366226, 0.023049525916576385], [0.004295781254768372, 0.00161639042198658, 0.005146989598870277, 0.0038036988116800785, 0.0019476325251162052, 0.01866762340068817, 0.0007326905615627766, 0.004283279180526733, 0.004641062580049038, 0.00119320722296834, 0.013390897773206234, 0.005918518174439669, 0.0017940610414370894, 0.020551422610878944, 0.0020944674033671618, 0.0018382776761427522, 0.05131511762738228, 0.018137430772185326], [0.005365567747503519, 0.0006396740791387856, 0.009033759124577045, 0.004386896267533302, 0.004344077780842781, 0.019618531689047813, 0.0008747478714212775, 0.009298216551542282, 0.0048382580280303955, 0.003871577326208353, 0.009001961909234524, 0.006419078912585974, 0.00159236672334373, 0.017536761239171028, 0.0015102775068953633, 0.004213111475110054, 0.0469355508685112, 0.017241673544049263], [0.00498847384005785, 0.0011548555921763182, 0.0013892498100176454, 0.0008480975520797074, 0.0007663369760848582, 0.015093797817826271, 0.00022953884035814553, 0.0009302331600338221, 0.006937635131180286, 0.0008131729555316269, 0.011964467354118824, 0.003935117274522781, 0.001189212896861136, 0.01713966205716133, 0.0005871964385733008, 0.001936300890520215, 0.08405135571956635, 0.022573979571461678], [0.0038546654395759106, 0.00355255464091897, 0.002662807935848832, 0.0009189841221086681, 0.0024970860686153173, 0.0072189876809716225, 0.001233935821801424, 0.005572740454226732, 0.0054562883451581, 0.0010560101363807917, 0.01109055895358324, 0.0022376873530447483, 0.002172834472730756, 0.01972012408077717, 0.0021545235067605972, 0.0035456158220767975, 0.043095074594020844, 0.0148106524720788], [0.0030929497443139553, 0.004849474411457777, 0.0030011527705937624, 0.004624491557478905, 0.002674548188224435, 0.02466958574950695, 0.008953732438385487, 0.003046872792765498, 0.003186197020113468, 0.001093881786800921, 0.020258530974388123, 0.004473310429602861, 0.0008601999725215137, 0.017579469829797745, 0.0047786301001906395, 0.01781936176121235, 0.05075545981526375, 0.013728883117437363], [0.0014878164511173964, 0.0020947346929460764, 0.02775520645081997, 0.0024161015171557665, 0.02177528105676174, 0.001606935984455049, 0.0019413355039432645, 0.0030966601334512234, 0.00105277297552675, 0.03093203715980053, 0.001198906684294343, 0.002613974269479513, 0.0013107964769005775, 0.0026099071837961674, 0.002260338980704546, 0.0072958762757480145, 0.0042569576762616634, 0.015130412764847279], [0.0031594408210366964, 0.009675274603068829, 0.0019257637904956937, 0.002592455130070448, 0.003950348123908043, 0.011427654884755611, 0.0031435599084943533, 0.009456123225390911, 0.005467380862683058, 0.0017178712878376245, 0.008107322268188, 0.0032668467611074448, 0.0038355954457074404, 0.008461939170956612, 0.006353107746690512, 0.002934289164841175, 0.028724126517772675, 0.0079079894348979], [0.004687368869781494, 0.009244179353117943, 0.0020365891978144646, 0.00422487361356616, 0.001982191577553749, 0.02844647876918316, 0.00401088735088706, 0.00951073132455349, 0.013004885986447334, 0.0033183209598064423, 0.037947338074445724, 0.004242933355271816, 0.006072498857975006, 0.02736574225127697, 0.0030368135776370764, 0.004548767115920782, 0.03469263017177582, 0.004513303749263287]]}],\n",
       "                        {\"template\": {\"data\": {\"bar\": [{\"error_x\": {\"color\": \"#2a3f5f\"}, \"error_y\": {\"color\": \"#2a3f5f\"}, \"marker\": {\"line\": {\"color\": \"#E5ECF6\", \"width\": 0.5}}, \"type\": \"bar\"}], \"barpolar\": [{\"marker\": {\"line\": {\"color\": \"#E5ECF6\", \"width\": 0.5}}, \"type\": \"barpolar\"}], \"carpet\": [{\"aaxis\": {\"endlinecolor\": \"#2a3f5f\", \"gridcolor\": \"white\", \"linecolor\": \"white\", \"minorgridcolor\": \"white\", \"startlinecolor\": \"#2a3f5f\"}, \"baxis\": {\"endlinecolor\": \"#2a3f5f\", \"gridcolor\": \"white\", \"linecolor\": \"white\", \"minorgridcolor\": \"white\", \"startlinecolor\": \"#2a3f5f\"}, \"type\": \"carpet\"}], \"choropleth\": [{\"colorbar\": {\"outlinewidth\": 0, \"ticks\": \"\"}, \"type\": \"choropleth\"}], \"contour\": [{\"colorbar\": {\"outlinewidth\": 0, \"ticks\": \"\"}, \"colorscale\": [[0.0, \"#0d0887\"], [0.1111111111111111, \"#46039f\"], [0.2222222222222222, \"#7201a8\"], [0.3333333333333333, \"#9c179e\"], [0.4444444444444444, \"#bd3786\"], [0.5555555555555556, \"#d8576b\"], [0.6666666666666666, \"#ed7953\"], [0.7777777777777778, \"#fb9f3a\"], [0.8888888888888888, \"#fdca26\"], [1.0, \"#f0f921\"]], \"type\": \"contour\"}], \"contourcarpet\": [{\"colorbar\": {\"outlinewidth\": 0, \"ticks\": \"\"}, \"type\": \"contourcarpet\"}], \"heatmap\": [{\"colorbar\": {\"outlinewidth\": 0, \"ticks\": \"\"}, \"colorscale\": [[0.0, \"#0d0887\"], [0.1111111111111111, \"#46039f\"], [0.2222222222222222, \"#7201a8\"], [0.3333333333333333, \"#9c179e\"], [0.4444444444444444, \"#bd3786\"], [0.5555555555555556, \"#d8576b\"], [0.6666666666666666, \"#ed7953\"], [0.7777777777777778, \"#fb9f3a\"], [0.8888888888888888, \"#fdca26\"], [1.0, \"#f0f921\"]], \"type\": \"heatmap\"}], \"heatmapgl\": [{\"colorbar\": {\"outlinewidth\": 0, \"ticks\": \"\"}, \"colorscale\": [[0.0, \"#0d0887\"], [0.1111111111111111, \"#46039f\"], [0.2222222222222222, \"#7201a8\"], [0.3333333333333333, \"#9c179e\"], [0.4444444444444444, \"#bd3786\"], [0.5555555555555556, \"#d8576b\"], [0.6666666666666666, \"#ed7953\"], [0.7777777777777778, \"#fb9f3a\"], [0.8888888888888888, \"#fdca26\"], [1.0, \"#f0f921\"]], \"type\": \"heatmapgl\"}], \"histogram\": [{\"marker\": {\"colorbar\": {\"outlinewidth\": 0, \"ticks\": \"\"}}, \"type\": \"histogram\"}], \"histogram2d\": [{\"colorbar\": {\"outlinewidth\": 0, \"ticks\": \"\"}, \"colorscale\": [[0.0, \"#0d0887\"], [0.1111111111111111, \"#46039f\"], [0.2222222222222222, \"#7201a8\"], [0.3333333333333333, \"#9c179e\"], [0.4444444444444444, \"#bd3786\"], [0.5555555555555556, \"#d8576b\"], [0.6666666666666666, \"#ed7953\"], [0.7777777777777778, \"#fb9f3a\"], [0.8888888888888888, \"#fdca26\"], [1.0, \"#f0f921\"]], \"type\": \"histogram2d\"}], \"histogram2dcontour\": [{\"colorbar\": {\"outlinewidth\": 0, \"ticks\": \"\"}, \"colorscale\": [[0.0, \"#0d0887\"], [0.1111111111111111, \"#46039f\"], [0.2222222222222222, \"#7201a8\"], [0.3333333333333333, \"#9c179e\"], [0.4444444444444444, \"#bd3786\"], [0.5555555555555556, \"#d8576b\"], [0.6666666666666666, \"#ed7953\"], [0.7777777777777778, \"#fb9f3a\"], [0.8888888888888888, \"#fdca26\"], [1.0, \"#f0f921\"]], \"type\": \"histogram2dcontour\"}], \"mesh3d\": [{\"colorbar\": {\"outlinewidth\": 0, \"ticks\": \"\"}, \"type\": \"mesh3d\"}], \"parcoords\": [{\"line\": {\"colorbar\": {\"outlinewidth\": 0, \"ticks\": \"\"}}, \"type\": \"parcoords\"}], \"pie\": [{\"automargin\": true, \"type\": \"pie\"}], \"scatter\": [{\"marker\": {\"colorbar\": {\"outlinewidth\": 0, \"ticks\": \"\"}}, \"type\": \"scatter\"}], \"scatter3d\": [{\"line\": {\"colorbar\": {\"outlinewidth\": 0, \"ticks\": \"\"}}, \"marker\": {\"colorbar\": {\"outlinewidth\": 0, \"ticks\": \"\"}}, \"type\": \"scatter3d\"}], \"scattercarpet\": [{\"marker\": {\"colorbar\": {\"outlinewidth\": 0, \"ticks\": \"\"}}, \"type\": \"scattercarpet\"}], \"scattergeo\": [{\"marker\": {\"colorbar\": {\"outlinewidth\": 0, \"ticks\": \"\"}}, \"type\": \"scattergeo\"}], \"scattergl\": [{\"marker\": {\"colorbar\": {\"outlinewidth\": 0, \"ticks\": \"\"}}, \"type\": \"scattergl\"}], \"scattermapbox\": [{\"marker\": {\"colorbar\": {\"outlinewidth\": 0, \"ticks\": \"\"}}, \"type\": \"scattermapbox\"}], \"scatterpolar\": [{\"marker\": {\"colorbar\": {\"outlinewidth\": 0, \"ticks\": \"\"}}, \"type\": \"scatterpolar\"}], \"scatterpolargl\": [{\"marker\": {\"colorbar\": {\"outlinewidth\": 0, \"ticks\": \"\"}}, \"type\": \"scatterpolargl\"}], \"scatterternary\": [{\"marker\": {\"colorbar\": {\"outlinewidth\": 0, \"ticks\": \"\"}}, \"type\": \"scatterternary\"}], \"surface\": [{\"colorbar\": {\"outlinewidth\": 0, \"ticks\": \"\"}, \"colorscale\": [[0.0, \"#0d0887\"], [0.1111111111111111, \"#46039f\"], [0.2222222222222222, \"#7201a8\"], [0.3333333333333333, \"#9c179e\"], [0.4444444444444444, \"#bd3786\"], [0.5555555555555556, \"#d8576b\"], [0.6666666666666666, \"#ed7953\"], [0.7777777777777778, \"#fb9f3a\"], [0.8888888888888888, \"#fdca26\"], [1.0, \"#f0f921\"]], \"type\": \"surface\"}], \"table\": [{\"cells\": {\"fill\": {\"color\": \"#EBF0F8\"}, \"line\": {\"color\": \"white\"}}, \"header\": {\"fill\": {\"color\": \"#C8D4E3\"}, \"line\": {\"color\": \"white\"}}, \"type\": \"table\"}]}, \"layout\": {\"annotationdefaults\": {\"arrowcolor\": \"#2a3f5f\", \"arrowhead\": 0, \"arrowwidth\": 1}, \"coloraxis\": {\"colorbar\": {\"outlinewidth\": 0, \"ticks\": \"\"}}, \"colorscale\": {\"diverging\": [[0, \"#8e0152\"], [0.1, \"#c51b7d\"], [0.2, \"#de77ae\"], [0.3, \"#f1b6da\"], [0.4, \"#fde0ef\"], [0.5, \"#f7f7f7\"], [0.6, \"#e6f5d0\"], [0.7, \"#b8e186\"], [0.8, \"#7fbc41\"], [0.9, \"#4d9221\"], [1, \"#276419\"]], \"sequential\": [[0.0, \"#0d0887\"], [0.1111111111111111, \"#46039f\"], [0.2222222222222222, \"#7201a8\"], [0.3333333333333333, \"#9c179e\"], [0.4444444444444444, \"#bd3786\"], [0.5555555555555556, \"#d8576b\"], [0.6666666666666666, \"#ed7953\"], [0.7777777777777778, \"#fb9f3a\"], [0.8888888888888888, \"#fdca26\"], [1.0, \"#f0f921\"]], \"sequentialminus\": [[0.0, \"#0d0887\"], [0.1111111111111111, \"#46039f\"], [0.2222222222222222, \"#7201a8\"], [0.3333333333333333, \"#9c179e\"], [0.4444444444444444, \"#bd3786\"], [0.5555555555555556, \"#d8576b\"], [0.6666666666666666, \"#ed7953\"], [0.7777777777777778, \"#fb9f3a\"], [0.8888888888888888, \"#fdca26\"], [1.0, \"#f0f921\"]]}, \"colorway\": [\"#636efa\", \"#EF553B\", \"#00cc96\", \"#ab63fa\", \"#FFA15A\", \"#19d3f3\", \"#FF6692\", \"#B6E880\", \"#FF97FF\", \"#FECB52\"], \"font\": {\"color\": \"#2a3f5f\"}, \"geo\": {\"bgcolor\": \"white\", \"lakecolor\": \"white\", \"landcolor\": \"#E5ECF6\", \"showlakes\": true, \"showland\": true, \"subunitcolor\": \"white\"}, \"hoverlabel\": {\"align\": \"left\"}, \"hovermode\": \"closest\", \"mapbox\": {\"style\": \"light\"}, \"paper_bgcolor\": \"white\", \"plot_bgcolor\": \"#E5ECF6\", \"polar\": {\"angularaxis\": {\"gridcolor\": \"white\", \"linecolor\": \"white\", \"ticks\": \"\"}, \"bgcolor\": \"#E5ECF6\", \"radialaxis\": {\"gridcolor\": \"white\", \"linecolor\": \"white\", \"ticks\": \"\"}}, \"scene\": {\"xaxis\": {\"backgroundcolor\": \"#E5ECF6\", \"gridcolor\": \"white\", \"gridwidth\": 2, \"linecolor\": \"white\", \"showbackground\": true, \"ticks\": \"\", \"zerolinecolor\": \"white\"}, \"yaxis\": {\"backgroundcolor\": \"#E5ECF6\", \"gridcolor\": \"white\", \"gridwidth\": 2, \"linecolor\": \"white\", \"showbackground\": true, \"ticks\": \"\", \"zerolinecolor\": \"white\"}, \"zaxis\": {\"backgroundcolor\": \"#E5ECF6\", \"gridcolor\": \"white\", \"gridwidth\": 2, \"linecolor\": \"white\", \"showbackground\": true, \"ticks\": \"\", \"zerolinecolor\": \"white\"}}, \"shapedefaults\": {\"line\": {\"color\": \"#2a3f5f\"}}, \"ternary\": {\"aaxis\": {\"gridcolor\": \"white\", \"linecolor\": \"white\", \"ticks\": \"\"}, \"baxis\": {\"gridcolor\": \"white\", \"linecolor\": \"white\", \"ticks\": \"\"}, \"bgcolor\": \"#E5ECF6\", \"caxis\": {\"gridcolor\": \"white\", \"linecolor\": \"white\", \"ticks\": \"\"}}, \"title\": {\"x\": 0.05}, \"xaxis\": {\"automargin\": true, \"gridcolor\": \"white\", \"linecolor\": \"white\", \"ticks\": \"\", \"title\": {\"standoff\": 15}, \"zerolinecolor\": \"white\", \"zerolinewidth\": 2}, \"yaxis\": {\"automargin\": true, \"gridcolor\": \"white\", \"linecolor\": \"white\", \"ticks\": \"\", \"title\": {\"standoff\": 15}, \"zerolinecolor\": \"white\", \"zerolinewidth\": 2}}}, \"title\": {\"text\": \"Text vs Claim\"}, \"xaxis\": {\"nticks\": 36}},\n",
       "                        {\"responsive\": true}\n",
       "                    ).then(function(){\n",
       "                            \n",
       "var gd = document.getElementById('74858a0f-cc61-41de-b902-ca63e1474c0b');\n",
       "var x = new MutationObserver(function (mutations, observer) {{\n",
       "        var display = window.getComputedStyle(gd).display;\n",
       "        if (!display || display === 'none') {{\n",
       "            console.log([gd, 'removed!']);\n",
       "            Plotly.purge(gd);\n",
       "            observer.disconnect();\n",
       "        }}\n",
       "}});\n",
       "\n",
       "// Listen for the removal of the full notebook cells\n",
       "var notebookContainer = gd.closest('#notebook-container');\n",
       "if (notebookContainer) {{\n",
       "    x.observe(notebookContainer, {childList: true});\n",
       "}}\n",
       "\n",
       "// Listen for the clearing of the current output cell\n",
       "var outputEl = gd.closest('.output');\n",
       "if (outputEl) {{\n",
       "    x.observe(outputEl, {childList: true});\n",
       "}}\n",
       "\n",
       "                        })\n",
       "                };\n",
       "                });\n",
       "            </script>\n",
       "        </div>"
      ]
     },
     "metadata": {},
     "output_type": "display_data"
    },
    {
     "ename": "ValueError",
     "evalue": "\nThe orca executable is required to export figures as static images,\nbut it could not be found on the system path.\n\nSearched for executable 'orca' on the following path:\n    /opt/anaconda3/envs/factcctst/bin\n    /opt/anaconda3/condabin\n    /Users/ns5kn/.cargo/bin\n    /usr/local/bin\n    /usr/bin\n    /bin\n    /usr/sbin\n    /sbin\n\nIf you haven't installed orca yet, you can do so using conda as follows:\n\n    $ conda install -c plotly plotly-orca\n\nAlternatively, see other installation methods in the orca project README at\nhttps://github.com/plotly/orca\n\nAfter installation is complete, no further configuration should be needed.\n\nIf you have installed orca, then for some reason plotly.py was unable to\nlocate it. In this case, set the `plotly.io.orca.config.executable`\nproperty to the full path of your orca executable. For example:\n\n    >>> plotly.io.orca.config.executable = '/path/to/orca'\n\nAfter updating this executable property, try the export operation again.\nIf it is successful then you may want to save this configuration so that it\nwill be applied automatically in future sessions. You can do this as follows:\n\n    >>> plotly.io.orca.config.save()\n\nIf you're still having trouble, feel free to ask for help on the forums at\nhttps://community.plot.ly/c/api/python\n",
     "output_type": "error",
     "traceback": [
      "\u001b[0;31m---------------------------------------------------------------------------\u001b[0m",
      "\u001b[0;31mValueError\u001b[0m                                Traceback (most recent call last)",
      "\u001b[0;32m<ipython-input-6-76326a8bd509>\u001b[0m in \u001b[0;36m<module>\u001b[0;34m\u001b[0m\n\u001b[1;32m      3\u001b[0m \u001b[0;34m\u001b[0m\u001b[0m\n\u001b[1;32m      4\u001b[0m \u001b[0;34m\u001b[0m\u001b[0m\n\u001b[0;32m----> 5\u001b[0;31m \u001b[0mobj\u001b[0m\u001b[0;34m.\u001b[0m\u001b[0mheatmap_plot\u001b[0m\u001b[0;34m(\u001b[0m\u001b[0msentence_a\u001b[0m\u001b[0;34m,\u001b[0m \u001b[0msentence_b\u001b[0m\u001b[0;34m,\u001b[0m \u001b[0;36m1\u001b[0m\u001b[0;34m,\u001b[0m \u001b[0;36m0\u001b[0m\u001b[0;34m)\u001b[0m\u001b[0;34m\u001b[0m\u001b[0;34m\u001b[0m\u001b[0m\n\u001b[0m\u001b[1;32m      6\u001b[0m \u001b[0;34m\u001b[0m\u001b[0m\n",
      "\u001b[0;32m~/Documents/insight/projects/factCC/src/factcc/visualization.py\u001b[0m in \u001b[0;36mheatmap_plot\u001b[0;34m(self, sentence_a, sentence_b, layer, head)\u001b[0m\n\u001b[1;32m    143\u001b[0m \u001b[0;34m\u001b[0m\u001b[0m\n\u001b[1;32m    144\u001b[0m         \u001b[0mfig\u001b[0m\u001b[0;34m.\u001b[0m\u001b[0mshow\u001b[0m\u001b[0;34m(\u001b[0m\u001b[0;34m)\u001b[0m\u001b[0;34m\u001b[0m\u001b[0;34m\u001b[0m\u001b[0m\n\u001b[0;32m--> 145\u001b[0;31m         \u001b[0mfig\u001b[0m\u001b[0;34m.\u001b[0m\u001b[0mwrite_image\u001b[0m\u001b[0;34m(\u001b[0m\u001b[0;34m\"images/fig1.png\"\u001b[0m\u001b[0;34m)\u001b[0m\u001b[0;34m\u001b[0m\u001b[0;34m\u001b[0m\u001b[0m\n\u001b[0m\u001b[1;32m    146\u001b[0m \u001b[0;34m\u001b[0m\u001b[0m\n\u001b[1;32m    147\u001b[0m \u001b[0;34m\u001b[0m\u001b[0m\n",
      "\u001b[0;32m/opt/anaconda3/envs/factcctst/lib/python3.7/site-packages/plotly/basedatatypes.py\u001b[0m in \u001b[0;36mwrite_image\u001b[0;34m(self, *args, **kwargs)\u001b[0m\n\u001b[1;32m   2822\u001b[0m         \u001b[0;32mimport\u001b[0m \u001b[0mplotly\u001b[0m\u001b[0;34m.\u001b[0m\u001b[0mio\u001b[0m \u001b[0;32mas\u001b[0m \u001b[0mpio\u001b[0m\u001b[0;34m\u001b[0m\u001b[0;34m\u001b[0m\u001b[0m\n\u001b[1;32m   2823\u001b[0m \u001b[0;34m\u001b[0m\u001b[0m\n\u001b[0;32m-> 2824\u001b[0;31m         \u001b[0;32mreturn\u001b[0m \u001b[0mpio\u001b[0m\u001b[0;34m.\u001b[0m\u001b[0mwrite_image\u001b[0m\u001b[0;34m(\u001b[0m\u001b[0mself\u001b[0m\u001b[0;34m,\u001b[0m \u001b[0;34m*\u001b[0m\u001b[0margs\u001b[0m\u001b[0;34m,\u001b[0m \u001b[0;34m**\u001b[0m\u001b[0mkwargs\u001b[0m\u001b[0;34m)\u001b[0m\u001b[0;34m\u001b[0m\u001b[0;34m\u001b[0m\u001b[0m\n\u001b[0m\u001b[1;32m   2825\u001b[0m \u001b[0;34m\u001b[0m\u001b[0m\n\u001b[1;32m   2826\u001b[0m     \u001b[0;31m# Static helpers\u001b[0m\u001b[0;34m\u001b[0m\u001b[0;34m\u001b[0m\u001b[0;34m\u001b[0m\u001b[0m\n",
      "\u001b[0;32m/opt/anaconda3/envs/factcctst/lib/python3.7/site-packages/plotly/io/_orca.py\u001b[0m in \u001b[0;36mwrite_image\u001b[0;34m(fig, file, format, scale, width, height, validate)\u001b[0m\n\u001b[1;32m   1765\u001b[0m     \u001b[0;31m# Do this first so we don't create a file if image conversion fails\u001b[0m\u001b[0;34m\u001b[0m\u001b[0;34m\u001b[0m\u001b[0;34m\u001b[0m\u001b[0m\n\u001b[1;32m   1766\u001b[0m     img_data = to_image(\n\u001b[0;32m-> 1767\u001b[0;31m         \u001b[0mfig\u001b[0m\u001b[0;34m,\u001b[0m \u001b[0mformat\u001b[0m\u001b[0;34m=\u001b[0m\u001b[0mformat\u001b[0m\u001b[0;34m,\u001b[0m \u001b[0mscale\u001b[0m\u001b[0;34m=\u001b[0m\u001b[0mscale\u001b[0m\u001b[0;34m,\u001b[0m \u001b[0mwidth\u001b[0m\u001b[0;34m=\u001b[0m\u001b[0mwidth\u001b[0m\u001b[0;34m,\u001b[0m \u001b[0mheight\u001b[0m\u001b[0;34m=\u001b[0m\u001b[0mheight\u001b[0m\u001b[0;34m,\u001b[0m \u001b[0mvalidate\u001b[0m\u001b[0;34m=\u001b[0m\u001b[0mvalidate\u001b[0m\u001b[0;34m\u001b[0m\u001b[0;34m\u001b[0m\u001b[0m\n\u001b[0m\u001b[1;32m   1768\u001b[0m     )\n\u001b[1;32m   1769\u001b[0m \u001b[0;34m\u001b[0m\u001b[0m\n",
      "\u001b[0;32m/opt/anaconda3/envs/factcctst/lib/python3.7/site-packages/plotly/io/_orca.py\u001b[0m in \u001b[0;36mto_image\u001b[0;34m(fig, format, width, height, scale, validate)\u001b[0m\n\u001b[1;32m   1530\u001b[0m     \u001b[0;31m# Make sure orca sever is running\u001b[0m\u001b[0;34m\u001b[0m\u001b[0;34m\u001b[0m\u001b[0;34m\u001b[0m\u001b[0m\n\u001b[1;32m   1531\u001b[0m     \u001b[0;31m# -------------------------------\u001b[0m\u001b[0;34m\u001b[0m\u001b[0;34m\u001b[0m\u001b[0;34m\u001b[0m\u001b[0m\n\u001b[0;32m-> 1532\u001b[0;31m     \u001b[0mensure_server\u001b[0m\u001b[0;34m(\u001b[0m\u001b[0;34m)\u001b[0m\u001b[0;34m\u001b[0m\u001b[0;34m\u001b[0m\u001b[0m\n\u001b[0m\u001b[1;32m   1533\u001b[0m \u001b[0;34m\u001b[0m\u001b[0m\n\u001b[1;32m   1534\u001b[0m     \u001b[0;31m# Handle defaults\u001b[0m\u001b[0;34m\u001b[0m\u001b[0;34m\u001b[0m\u001b[0;34m\u001b[0m\u001b[0m\n",
      "\u001b[0;32m/opt/anaconda3/envs/factcctst/lib/python3.7/site-packages/plotly/io/_orca.py\u001b[0m in \u001b[0;36mensure_server\u001b[0;34m()\u001b[0m\n\u001b[1;32m   1388\u001b[0m         \u001b[0;31m# Validate orca executable only if server_url is not provided\u001b[0m\u001b[0;34m\u001b[0m\u001b[0;34m\u001b[0m\u001b[0;34m\u001b[0m\u001b[0m\n\u001b[1;32m   1389\u001b[0m         \u001b[0;32mif\u001b[0m \u001b[0mstatus\u001b[0m\u001b[0;34m.\u001b[0m\u001b[0mstate\u001b[0m \u001b[0;34m==\u001b[0m \u001b[0;34m\"unvalidated\"\u001b[0m\u001b[0;34m:\u001b[0m\u001b[0;34m\u001b[0m\u001b[0;34m\u001b[0m\u001b[0m\n\u001b[0;32m-> 1390\u001b[0;31m             \u001b[0mvalidate_executable\u001b[0m\u001b[0;34m(\u001b[0m\u001b[0;34m)\u001b[0m\u001b[0;34m\u001b[0m\u001b[0;34m\u001b[0m\u001b[0m\n\u001b[0m\u001b[1;32m   1391\u001b[0m         \u001b[0;31m# Acquire lock to make sure that we keep the properties of orca_state\u001b[0m\u001b[0;34m\u001b[0m\u001b[0;34m\u001b[0m\u001b[0;34m\u001b[0m\u001b[0m\n\u001b[1;32m   1392\u001b[0m         \u001b[0;31m# consistent across threads\u001b[0m\u001b[0;34m\u001b[0m\u001b[0;34m\u001b[0m\u001b[0;34m\u001b[0m\u001b[0m\n",
      "\u001b[0;32m/opt/anaconda3/envs/factcctst/lib/python3.7/site-packages/plotly/io/_orca.py\u001b[0m in \u001b[0;36mvalidate_executable\u001b[0;34m()\u001b[0m\n\u001b[1;32m   1085\u001b[0m                 \u001b[0mexecutable\u001b[0m\u001b[0;34m=\u001b[0m\u001b[0mconfig\u001b[0m\u001b[0;34m.\u001b[0m\u001b[0mexecutable\u001b[0m\u001b[0;34m,\u001b[0m\u001b[0;34m\u001b[0m\u001b[0;34m\u001b[0m\u001b[0m\n\u001b[1;32m   1086\u001b[0m                 \u001b[0mformatted_path\u001b[0m\u001b[0;34m=\u001b[0m\u001b[0mformatted_path\u001b[0m\u001b[0;34m,\u001b[0m\u001b[0;34m\u001b[0m\u001b[0;34m\u001b[0m\u001b[0m\n\u001b[0;32m-> 1087\u001b[0;31m                 \u001b[0minstructions\u001b[0m\u001b[0;34m=\u001b[0m\u001b[0minstall_location_instructions\u001b[0m\u001b[0;34m,\u001b[0m\u001b[0;34m\u001b[0m\u001b[0;34m\u001b[0m\u001b[0m\n\u001b[0m\u001b[1;32m   1088\u001b[0m             )\n\u001b[1;32m   1089\u001b[0m         )\n",
      "\u001b[0;31mValueError\u001b[0m: \nThe orca executable is required to export figures as static images,\nbut it could not be found on the system path.\n\nSearched for executable 'orca' on the following path:\n    /opt/anaconda3/envs/factcctst/bin\n    /opt/anaconda3/condabin\n    /Users/ns5kn/.cargo/bin\n    /usr/local/bin\n    /usr/bin\n    /bin\n    /usr/sbin\n    /sbin\n\nIf you haven't installed orca yet, you can do so using conda as follows:\n\n    $ conda install -c plotly plotly-orca\n\nAlternatively, see other installation methods in the orca project README at\nhttps://github.com/plotly/orca\n\nAfter installation is complete, no further configuration should be needed.\n\nIf you have installed orca, then for some reason plotly.py was unable to\nlocate it. In this case, set the `plotly.io.orca.config.executable`\nproperty to the full path of your orca executable. For example:\n\n    >>> plotly.io.orca.config.executable = '/path/to/orca'\n\nAfter updating this executable property, try the export operation again.\nIf it is successful then you may want to save this configuration so that it\nwill be applied automatically in future sessions. You can do this as follows:\n\n    >>> plotly.io.orca.config.save()\n\nIf you're still having trouble, feel free to ask for help on the forums at\nhttps://community.plot.ly/c/api/python\n"
     ]
    }
   ],
   "source": [
    "sentence_a = \"A van was also hijacked in Denmark Street and pushed towards police lines. It is not yet known how serious the injuries sustained by the police officers taken to hospital are.\"\n",
    "sentence_b = \"A van was also abducted on Denmark Street and pushed in the direction of police lines.\"\n",
    "\n",
    "\n",
    "obj.heatmap_plot(sentence_a, sentence_b, 1, 0)\n",
    "\n"
   ]
  }
 ],
 "metadata": {
  "kernelspec": {
   "display_name": "Python 3",
   "language": "python",
   "name": "python3"
  },
  "language_info": {
   "codemirror_mode": {
    "name": "ipython",
    "version": 3
   },
   "file_extension": ".py",
   "mimetype": "text/x-python",
   "name": "python",
   "nbconvert_exporter": "python",
   "pygments_lexer": "ipython3",
   "version": "3.7.6"
  }
 },
 "nbformat": 4,
 "nbformat_minor": 4
}
